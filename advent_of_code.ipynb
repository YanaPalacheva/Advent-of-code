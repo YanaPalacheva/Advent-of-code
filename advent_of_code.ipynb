{
 "cells": [
  {
   "cell_type": "markdown",
   "metadata": {},
   "source": [
    "### Day 1: sum check"
   ]
  },
  {
   "cell_type": "code",
   "execution_count": null,
   "metadata": {
    "scrolled": false
   },
   "outputs": [],
   "source": [
    "with open('input_1.txt') as file:\n",
    "    num_array = [int(line) for line in file]"
   ]
  },
  {
   "cell_type": "code",
   "execution_count": 8,
   "metadata": {},
   "outputs": [
    {
     "name": "stdout",
     "output_type": "stream",
     "text": [
      "1433 365 222\n",
      "116115990\n"
     ]
    }
   ],
   "source": [
    "def check_sum(array):\n",
    "    for num1 in array:\n",
    "        for num2 in array:\n",
    "            for num3 in array:\n",
    "                if num1 + num2 + num3 == 2020:\n",
    "                    return (num1, num2, num3)\n",
    "                \n",
    "num1, num2, num3 = check_sum(num_array)\n",
    "print(num1, num2, num3)\n",
    "print(num1*num2*num3)"
   ]
  },
  {
   "cell_type": "markdown",
   "metadata": {},
   "source": [
    "### Day 2: password check"
   ]
  },
  {
   "cell_type": "code",
   "execution_count": 5,
   "metadata": {},
   "outputs": [],
   "source": [
    "with open('input_2.txt') as file:\n",
    "    password_tuples = []\n",
    "    for line in file:\n",
    "        spl = line.split(': ')\n",
    "        password_tuples.append((spl[0], spl[1][:-1]))\n"
   ]
  },
  {
   "cell_type": "code",
   "execution_count": 11,
   "metadata": {},
   "outputs": [
    {
     "data": {
      "text/plain": [
       "493"
      ]
     },
     "execution_count": 11,
     "metadata": {},
     "output_type": "execute_result"
    }
   ],
   "source": [
    "valid_cnt = 0\n",
    "for t in password_tuples:\n",
    "    rule, pw = t\n",
    "    rule_spl = rule.split(\" \")\n",
    "    char = rule_spl[1]\n",
    "    lims = rule_spl[0].split(\"-\")\n",
    "    if pw.count(char) in range(int(lims[0]), int(lims[1])+1):\n",
    "        valid_cnt += 1\n",
    "valid_cnt"
   ]
  },
  {
   "cell_type": "code",
   "execution_count": 16,
   "metadata": {},
   "outputs": [
    {
     "data": {
      "text/plain": [
       "593"
      ]
     },
     "execution_count": 16,
     "metadata": {},
     "output_type": "execute_result"
    }
   ],
   "source": [
    "valid_cnt_new = 0\n",
    "for t in password_tuples:\n",
    "    rule, pw = t\n",
    "    rule_spl = rule.split(\" \")\n",
    "    char = rule_spl[1]\n",
    "    positions = rule_spl[0].split(\"-\")\n",
    "    if (pw[int(positions[0])-1] == char) is not (pw[int(positions[1])-1] == char):\n",
    "        valid_cnt_new += 1\n",
    "valid_cnt_new"
   ]
  },
  {
   "cell_type": "markdown",
   "metadata": {},
   "source": [
    "### Day 3: tree counting"
   ]
  },
  {
   "cell_type": "code",
   "execution_count": 26,
   "metadata": {},
   "outputs": [
    {
     "data": {
      "text/plain": [
       "6419669520"
      ]
     },
     "execution_count": 26,
     "metadata": {},
     "output_type": "execute_result"
    }
   ],
   "source": [
    "with open('input_3.txt') as file:\n",
    "    lines = file.read().splitlines()[1:]\n",
    "\n",
    "slopes = [(1,1), (3,1), (5,1), (7,1), (1,2)]\n",
    "len_line = len(lines[0])\n",
    "result = 1\n",
    "\n",
    "for h_slope, v_slope in slopes:\n",
    "    tree_cnt = 0\n",
    "    mult = 1\n",
    "    add = 0\n",
    "    ind = mult*h_slope + add\n",
    "    for line_ind, line in enumerate(lines):\n",
    "        if (line_ind+1)%v_slope == 0:\n",
    "            if len_line-1 > ind:\n",
    "                if line[ind] == '#':\n",
    "                    tree_cnt += 1\n",
    "                mult += 1\n",
    "\n",
    "            elif len_line-1 == ind:\n",
    "                if line[ind] == '#':\n",
    "                    tree_cnt += 1\n",
    "                mult = 1\n",
    "                add = -1\n",
    "\n",
    "            new_ind = mult*h_slope + add\n",
    "            if len_line-1 < new_ind:\n",
    "                mult = 0\n",
    "                add = h_slope - (len_line - ind)\n",
    "                new_ind = mult*h_slope + add\n",
    "            ind = new_ind\n",
    "            \n",
    "    result *= tree_cnt\n",
    "\n",
    "result"
   ]
  },
  {
   "cell_type": "markdown",
   "metadata": {},
   "source": [
    "### Day 4: passport validation"
   ]
  },
  {
   "cell_type": "code",
   "execution_count": 15,
   "metadata": {},
   "outputs": [],
   "source": [
    "with open('input_4.txt') as file:\n",
    "    lines = file.read()\n",
    "\n",
    "pass_data = lines.split('\\n\\n')"
   ]
  },
  {
   "cell_type": "code",
   "execution_count": 22,
   "metadata": {},
   "outputs": [
    {
     "data": {
      "text/plain": [
       "137"
      ]
     },
     "execution_count": 22,
     "metadata": {},
     "output_type": "execute_result"
    }
   ],
   "source": [
    "import re\n",
    "\n",
    "def valid_field(field, value):\n",
    "    if field == 'byr': \n",
    "        if (not re.search(r'^\\d{4}$', value)):\n",
    "            return False\n",
    "        elif not (int(value) in range(1920, 2003)):\n",
    "            return False\n",
    "    elif field == 'iyr': \n",
    "        if (not re.search(r'^\\d{4}$', value)):\n",
    "            return False\n",
    "        elif not (int(value) in range(2010, 2021)):\n",
    "            return False\n",
    "    elif field == 'eyr': \n",
    "        if (not re.search(r'^\\d{4}$', value)):\n",
    "            return False\n",
    "        elif not (int(value) in range(2020, 2031)):\n",
    "            return False\n",
    "    elif field == 'pid': \n",
    "        if not re.search(r'^\\d{9}$', value):\n",
    "            return False\n",
    "    elif field == 'ecl': \n",
    "        if value not in ['amb', 'blu', 'brn', 'gry', 'grn', 'hzl', 'oth']:\n",
    "            return False\n",
    "    elif field == 'hcl': \n",
    "        if not re.search(r'^#([0-9a-f]){6}$', value):\n",
    "            return False\n",
    "    elif field == 'hgt': \n",
    "        if not re.search(r'^\\d+(cm|in)$', value):\n",
    "            return False\n",
    "        elif value[-2:] == 'cm':\n",
    "            if not int(value[:-2]) in range(150, 194):\n",
    "                return False\n",
    "        elif value[-2:] == 'in':\n",
    "            if not int(value[:-2]) in range(59, 77):\n",
    "                return False\n",
    "    return True\n",
    "\n",
    "def valid_fields(raw_data):\n",
    "    data = raw_data.replace('/n', ' ').split()\n",
    "    for field_entry in data:\n",
    "        key_value = field_entry.split(':')\n",
    "        if not valid_field(key_value[0], key_value[1]):\n",
    "            return False\n",
    "    return True\n",
    "        \n",
    "def valid(raw_data):\n",
    "    fields = ['byr', 'iyr', 'eyr', 'hgt', 'hcl', 'ecl', 'pid', 'cid']\n",
    "    for field in fields:\n",
    "        if (field not in raw_data) and (field != 'cid'):\n",
    "            return False\n",
    "    if not valid_fields(raw_data):\n",
    "        return False\n",
    "    return True\n",
    "\n",
    "cnt_valid = 0\n",
    "for raw_data in pass_data:\n",
    "    if valid(raw_data):\n",
    "        cnt_valid += 1\n",
    "        \n",
    "cnt_valid"
   ]
  },
  {
   "cell_type": "markdown",
   "metadata": {},
   "source": [
    "### Day 5: find my seat!"
   ]
  },
  {
   "cell_type": "code",
   "execution_count": 4,
   "metadata": {},
   "outputs": [],
   "source": [
    "with open('input_5.txt') as file:\n",
    "    seat_codes = file.read().splitlines()\n",
    "test_codes = ['BFFFBBFRRR', 'FFFBBBFRRR', 'BBFFBBFRLL']\n",
    "total_rows = 128\n",
    "total_cols = 8\n",
    "\n",
    "# here could have been an elegant solution: the code is the binary number, rows=2^7, cols=2^3 and I could simply interpret\n",
    "# the code this way instead of dealing with range limits directly"
   ]
  },
  {
   "cell_type": "code",
   "execution_count": 45,
   "metadata": {},
   "outputs": [
    {
     "name": "stdout",
     "output_type": "stream",
     "text": [
      "Max id:  901\n"
     ]
    }
   ],
   "source": [
    "def find_pointer(seat_code, dirs, lower_pointer, upper_pointer):\n",
    "    for direction in seat_code:\n",
    "        if direction == dirs[0]:\n",
    "            if upper_pointer - lower_pointer == 1:\n",
    "                upper_pointer -= 1\n",
    "            else:\n",
    "                upper_pointer -= round((upper_pointer - lower_pointer)/2)\n",
    "        elif direction == dirs[1]:\n",
    "            if upper_pointer - lower_pointer == 1:\n",
    "                lower_pointer += 1\n",
    "            else:\n",
    "                lower_pointer += round((upper_pointer - lower_pointer)/2)\n",
    "        else:\n",
    "            print(f'Invalid code: {seat_code}')\n",
    "    if lower_pointer != upper_pointer:\n",
    "        print(lower_pointer, upper_pointer)\n",
    "        print('smth wrong')\n",
    "        return\n",
    "    return lower_pointer\n",
    "        \n",
    "        \n",
    "def seat_id(row, col):\n",
    "    return row*8+col\n",
    "\n",
    "seat_ids = []\n",
    "for seat_code in seat_codes:\n",
    "    row = find_pointer(seat_code[:7], ('F', 'B'), 0, 127)\n",
    "    col = find_pointer(seat_code[7:], ('L', 'R'), 0, 7)\n",
    "    seat_ids.append(seat_id(row, col))\n",
    "print(\"Max id: \", max(seat_ids))"
   ]
  },
  {
   "cell_type": "code",
   "execution_count": 47,
   "metadata": {},
   "outputs": [
    {
     "name": "stdout",
     "output_type": "stream",
     "text": [
      "My seat id:  661\n"
     ]
    }
   ],
   "source": [
    "my_seat_id = 0\n",
    "sorted_seat_ids_list = sorted(seat_ids)\n",
    "for ind, s_id in enumerate(sorted_seat_ids_list[:-1]):\n",
    "    if sorted_seat_ids_list[ind+1] - s_id == 2:\n",
    "        my_seat_id = s_id + 1\n",
    "\n",
    "print(\"My seat id: \", my_seat_id)"
   ]
  },
  {
   "cell_type": "markdown",
   "metadata": {},
   "source": [
    "### Day 6: always say yes"
   ]
  },
  {
   "cell_type": "code",
   "execution_count": 27,
   "metadata": {},
   "outputs": [],
   "source": [
    "with open('input_6.txt') as file:\n",
    "    lines = file.read()\n",
    "\n",
    "group_answers = lines.split('\\n\\n')"
   ]
  },
  {
   "cell_type": "code",
   "execution_count": 8,
   "metadata": {},
   "outputs": [
    {
     "name": "stdout",
     "output_type": "stream",
     "text": [
      "Sum of positive answers [anyone]:  6590\n"
     ]
    }
   ],
   "source": [
    "count_positives_anyone = 0\n",
    "for group in group_answers:\n",
    "    group = group.replace('\\n', '')\n",
    "    count_positives_anyone += len(set(group))\n",
    "print('Sum of positive answers [anyone]: ', count_positives_anyone)"
   ]
  },
  {
   "cell_type": "code",
   "execution_count": 26,
   "metadata": {},
   "outputs": [
    {
     "name": "stdout",
     "output_type": "stream",
     "text": [
      "Sum of positive answers [everyone]:  3288\n"
     ]
    }
   ],
   "source": [
    "count_positives_everyone = 0\n",
    "for group in group_answers:\n",
    "    if group[-1] == '\\n':\n",
    "        group = group[:-1]\n",
    "    people = group.split('\\n')\n",
    "    resulting_set = set(people[0])\n",
    "    for person in people[1:]:\n",
    "        resulting_set = resulting_set.intersection(set(person))\n",
    "    count_positives_everyone += len(set(resulting_set))\n",
    "print('Sum of positive answers [everyone]: ', count_positives_everyone)"
   ]
  },
  {
   "cell_type": "markdown",
   "metadata": {},
   "source": [
    "### Day 7: where's my bag?"
   ]
  },
  {
   "cell_type": "code",
   "execution_count": 28,
   "metadata": {},
   "outputs": [],
   "source": [
    "with open('input_7.txt') as file:\n",
    "    rules = file.read().splitlines()"
   ]
  },
  {
   "cell_type": "code",
   "execution_count": 49,
   "metadata": {},
   "outputs": [
    {
     "name": "stdout",
     "output_type": "stream",
     "text": [
      "N of potential containers: 259\n"
     ]
    }
   ],
   "source": [
    "my_bag = 'shiny gold'\n",
    "containers = []\n",
    "\n",
    "def indirect_container(spl_rule, containers):\n",
    "    for c in containers:\n",
    "        if c in spl_rule[1]:\n",
    "            cont = spl_rule[0]\n",
    "            return cont\n",
    "    return ''\n",
    " \n",
    "# direct containers\n",
    "for rule in rules:\n",
    "    spl_rule = rule.split(' bags contain ')\n",
    "    if my_bag in spl_rule[1]:\n",
    "        cont = spl_rule[0]\n",
    "        containers.append(cont)\n",
    "\n",
    "# indirect containers\n",
    "def find_indirect(rules, containers):\n",
    "    newly_added = []\n",
    "    for rule in rules:\n",
    "        spl_rule = rule.split(' bags contain ') \n",
    "        indirect_cont = indirect_container(spl_rule, containers)\n",
    "        if indirect_cont:\n",
    "            newly_added.append(indirect_cont)\n",
    "    return newly_added\n",
    "\n",
    "newly_added = find_indirect(rules, containers) \n",
    "while newly_added:\n",
    "    containers += newly_added\n",
    "    newly_added = find_indirect(rules, newly_added)\n",
    "              \n",
    "print('N of potential containers:', len(set(containers)))"
   ]
  },
  {
   "cell_type": "code",
   "execution_count": 69,
   "metadata": {},
   "outputs": [
    {
     "name": "stdout",
     "output_type": "stream",
     "text": [
      "45018 bags are inside my wee shiny gold bag...\n"
     ]
    }
   ],
   "source": [
    "import re\n",
    "\n",
    "def parse_insides(raw_insides, parent_mult):\n",
    "    bag_tuples = []\n",
    "    bag_types = re.findall(r'[0-9]+\\s[a-z]+\\s[a-z]+', raw_insides)\n",
    "    for bag_type in bag_types:\n",
    "        tokens = bag_type.split()\n",
    "        bag_tuple = (parent_mult*int(tokens[0]), ' '.join(tokens[1:]))\n",
    "        bag_tuples.append(bag_tuple)\n",
    "    return bag_tuples\n",
    "     \n",
    "def find_insides(insides):\n",
    "    new_insides = []\n",
    "    for inside in insides:\n",
    "        for rule in rules:\n",
    "            spl_rule = rule.split(' bags contain ')\n",
    "            if inside[1] in spl_rule[0]:\n",
    "                new_insides += parse_insides(spl_rule[1], inside[0])\n",
    "    return new_insides\n",
    "\n",
    "insides = [(1, my_bag)]\n",
    "cnt = 0\n",
    "while insides:\n",
    "    insides = find_insides(insides)\n",
    "    for inside in insides:\n",
    "        cnt += inside[0]\n",
    "\n",
    "print(cnt, 'bags are inside my wee shiny gold bag...')"
   ]
  },
  {
   "cell_type": "markdown",
   "metadata": {},
   "source": [
    "### Day 8: To infinity... and beyond"
   ]
  },
  {
   "cell_type": "code",
   "execution_count": 76,
   "metadata": {},
   "outputs": [],
   "source": [
    "with open('input_8.txt') as file:\n",
    "    lines = file.read().splitlines()\n",
    "    \n",
    "instructions = []\n",
    "for line in lines:\n",
    "    instruction = tuple(line.split()) # command, argument\n",
    "    instructions.append(instruction)"
   ]
  },
  {
   "cell_type": "code",
   "execution_count": 36,
   "metadata": {},
   "outputs": [],
   "source": [
    "# test = \"\"\"nop +0\n",
    "# acc +1\n",
    "# jmp +4\n",
    "# acc +3\n",
    "# jmp -3\n",
    "# acc -99\n",
    "# acc +1\n",
    "# jmp -4\n",
    "# acc +6\"\"\"\n",
    "# test = test.splitlines()\n",
    "# instructions = []\n",
    "# for line in test:\n",
    "#     instruction = tuple(line.split()) # command, argument\n",
    "#     instructions.append(instruction)"
   ]
  },
  {
   "cell_type": "code",
   "execution_count": 134,
   "metadata": {},
   "outputs": [
    {
     "name": "stdout",
     "output_type": "stream",
     "text": [
      "Accumulator value at the end of the loop: 1654\n"
     ]
    }
   ],
   "source": [
    "accumulator = 0\n",
    "\n",
    "def execute_instruction(instr, index):\n",
    "    global accumulator\n",
    "    if instr[0] == 'acc':\n",
    "        accumulator += int(instr[1])\n",
    "    elif instr[0] == 'jmp':\n",
    "        return index+int(instr[1])\n",
    "    return index+1\n",
    "\n",
    "def loop_once(instructions):\n",
    "    loop = False\n",
    "    ind = 0\n",
    "    visited = [False]*len(instructions)\n",
    "    while not loop:\n",
    "        instruction = instructions[ind]\n",
    "        if visited[ind]: # visited\n",
    "            loop = True\n",
    "        else:\n",
    "            visited[ind] = True\n",
    "            ind = execute_instruction(instruction, ind)\n",
    "            \n",
    "loop_once(instructions)\n",
    "print('Accumulator value at the end of the loop:', accumulator)"
   ]
  },
  {
   "cell_type": "code",
   "execution_count": 135,
   "metadata": {},
   "outputs": [
    {
     "name": "stdout",
     "output_type": "stream",
     "text": [
      "Acccumulator: 833\n"
     ]
    }
   ],
   "source": [
    "def is_loop(cur_instructions):\n",
    "    ind = 0\n",
    "    visited_instructions = [False]*len(cur_instructions)\n",
    "    while ind < len(cur_instructions):\n",
    "        instruction = cur_instructions[ind]\n",
    "        if visited_instructions[ind]: # visited\n",
    "            return True\n",
    "        else:\n",
    "            visited_instructions[ind] = True\n",
    "            ind = execute_instruction(instruction, ind)\n",
    "    return False\n",
    "\n",
    "for index, instr in enumerate(instructions):\n",
    "    accumulator = 0\n",
    "    changed_instructions = instructions.copy()\n",
    "    if instr[0] == 'nop':\n",
    "        changed_instructions[index] = ('jmp', instr[1])\n",
    "    elif instr[0] == 'jmp':\n",
    "        changed_instructions[index] = ('nop', instr[1])\n",
    "    \n",
    "    if instr[0] != 'acc' and (not is_loop(changed_instructions)):\n",
    "        print('Acccumulator:', accumulator)\n",
    "        break\n",
    "        \n",
    "# too straightforward considering Part 1: I could just follow the reversed path of the loop and try changing jmp and nop \n",
    "# instead of testing all of them"
   ]
  },
  {
   "cell_type": "markdown",
   "metadata": {},
   "source": [
    "### Day 6: let's decypher XMAS together!"
   ]
  },
  {
   "cell_type": "code",
   "execution_count": 136,
   "metadata": {},
   "outputs": [],
   "source": [
    "with open('input_9.txt') as file:\n",
    "    numbers = [int(line) for line in file]\n",
    "    \n",
    "preamble = 25"
   ]
  },
  {
   "cell_type": "code",
   "execution_count": 137,
   "metadata": {},
   "outputs": [],
   "source": [
    "test_nums = [35, 20, 15, 25, 47, 40, 62, 55, 65, 95, 102, 117, 150, 182, 127, 219, 299, 277, 309, 576]\n",
    "test_preamble = 5"
   ]
  },
  {
   "cell_type": "code",
   "execution_count": 164,
   "metadata": {},
   "outputs": [
    {
     "name": "stdout",
     "output_type": "stream",
     "text": [
      "test (should be 127): 127\n"
     ]
    }
   ],
   "source": [
    "import itertools\n",
    "\n",
    "def calculate_sums(num_arr, dim=2):\n",
    "    return [sum(seq) for seq in itertools.combinations(num_arr, dim)]\n",
    "\n",
    "def non_valid_number(num_array, preamble):\n",
    "    for ind, num in enumerate(num_array[preamble:]):\n",
    "        pre_sums = calculate_sums(num_array[ind:ind+preamble])\n",
    "        if num not in pre_sums:\n",
    "            return num, ind\n",
    "    print('all numbers are valid')\n",
    "    return None\n",
    "\n",
    "test_invalid_num, test_invalid_ind = non_valid_number(test_nums, test_preamble)\n",
    "print('test (should be 127):', test_invalid_num)"
   ]
  },
  {
   "cell_type": "code",
   "execution_count": 163,
   "metadata": {},
   "outputs": [
    {
     "name": "stdout",
     "output_type": "stream",
     "text": [
      "the first non-valid number: 507622668\n"
     ]
    }
   ],
   "source": [
    "invalid_num, invalid_ind = non_valid_number(numbers, preamble)\n",
    "print('the first non-valid number:', invalid_num)"
   ]
  },
  {
   "cell_type": "code",
   "execution_count": 165,
   "metadata": {},
   "outputs": [
    {
     "name": "stdout",
     "output_type": "stream",
     "text": [
      "test (shoud be 62): 62\n"
     ]
    }
   ],
   "source": [
    "def find_contiguous_set(goal, num_arr):\n",
    "    cont_sets = [num_arr[i:i+j] for i in range(0,len(num_arr)) for j in range(2,len(num_arr)-i+1)]\n",
    "    for c_set in cont_sets:\n",
    "        if sum(c_set) == goal:\n",
    "            return c_set\n",
    "    print('no such set')\n",
    "    return None\n",
    "\n",
    "def calculate_weakness(c_set):\n",
    "    return max(c_set) + min(c_set)\n",
    "\n",
    "print('test (shoud be 62):', calculate_weakness(find_contiguous_set(127, test_nums[:test_invalid_ind])))"
   ]
  },
  {
   "cell_type": "code",
   "execution_count": 160,
   "metadata": {},
   "outputs": [
    {
     "name": "stdout",
     "output_type": "stream",
     "text": [
      "Encryption weakness: 76688505\n"
     ]
    }
   ],
   "source": [
    "print('Encryption weakness:', calculate_weakness(find_contiguous_set(invalid_num, numbers[:invalid_ind])))\n",
    "# 76688505"
   ]
  },
  {
   "cell_type": "code",
   "execution_count": null,
   "metadata": {},
   "outputs": [],
   "source": []
  }
 ],
 "metadata": {
  "kernelspec": {
   "display_name": "Python 3",
   "language": "python",
   "name": "python3"
  },
  "language_info": {
   "codemirror_mode": {
    "name": "ipython",
    "version": 3
   },
   "file_extension": ".py",
   "mimetype": "text/x-python",
   "name": "python",
   "nbconvert_exporter": "python",
   "pygments_lexer": "ipython3",
   "version": "3.8.2"
  }
 },
 "nbformat": 4,
 "nbformat_minor": 4
}
