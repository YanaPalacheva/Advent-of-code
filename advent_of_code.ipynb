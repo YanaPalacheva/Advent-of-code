{
 "cells": [
  {
   "cell_type": "markdown",
   "metadata": {},
   "source": [
    "### Day 1: sum check"
   ]
  },
  {
   "cell_type": "code",
   "execution_count": null,
   "metadata": {
    "scrolled": false
   },
   "outputs": [],
   "source": [
    "with open('input_1.txt') as file:\n",
    "    num_array = [int(line) for line in file]"
   ]
  },
  {
   "cell_type": "code",
   "execution_count": 8,
   "metadata": {},
   "outputs": [
    {
     "name": "stdout",
     "output_type": "stream",
     "text": [
      "1433 365 222\n",
      "116115990\n"
     ]
    }
   ],
   "source": [
    "def check_sum(array):\n",
    "    for num1 in array:\n",
    "        for num2 in array:\n",
    "            for num3 in array:\n",
    "                if num1 + num2 + num3 == 2020:\n",
    "                    return (num1, num2, num3)\n",
    "                \n",
    "num1, num2, num3 = check_sum(num_array)\n",
    "print(num1, num2, num3)\n",
    "print(num1*num2*num3)"
   ]
  },
  {
   "cell_type": "markdown",
   "metadata": {},
   "source": [
    "### Day 2: password check"
   ]
  },
  {
   "cell_type": "code",
   "execution_count": 5,
   "metadata": {},
   "outputs": [],
   "source": [
    "with open('input_2.txt') as file:\n",
    "    password_tuples = []\n",
    "    for line in file:\n",
    "        spl = line.split(': ')\n",
    "        password_tuples.append((spl[0], spl[1][:-1]))\n"
   ]
  },
  {
   "cell_type": "code",
   "execution_count": 11,
   "metadata": {},
   "outputs": [
    {
     "data": {
      "text/plain": [
       "493"
      ]
     },
     "execution_count": 11,
     "metadata": {},
     "output_type": "execute_result"
    }
   ],
   "source": [
    "valid_cnt = 0\n",
    "for t in password_tuples:\n",
    "    rule, pw = t\n",
    "    rule_spl = rule.split(\" \")\n",
    "    char = rule_spl[1]\n",
    "    lims = rule_spl[0].split(\"-\")\n",
    "    if pw.count(char) in range(int(lims[0]), int(lims[1])+1):\n",
    "        valid_cnt += 1\n",
    "valid_cnt"
   ]
  },
  {
   "cell_type": "code",
   "execution_count": 16,
   "metadata": {},
   "outputs": [
    {
     "data": {
      "text/plain": [
       "593"
      ]
     },
     "execution_count": 16,
     "metadata": {},
     "output_type": "execute_result"
    }
   ],
   "source": [
    "valid_cnt_new = 0\n",
    "for t in password_tuples:\n",
    "    rule, pw = t\n",
    "    rule_spl = rule.split(\" \")\n",
    "    char = rule_spl[1]\n",
    "    positions = rule_spl[0].split(\"-\")\n",
    "    if (pw[int(positions[0])-1] == char) is not (pw[int(positions[1])-1] == char):\n",
    "        valid_cnt_new += 1\n",
    "valid_cnt_new"
   ]
  },
  {
   "cell_type": "markdown",
   "metadata": {},
   "source": [
    "### Day 3: tree counting"
   ]
  },
  {
   "cell_type": "code",
   "execution_count": 26,
   "metadata": {},
   "outputs": [
    {
     "data": {
      "text/plain": [
       "6419669520"
      ]
     },
     "execution_count": 26,
     "metadata": {},
     "output_type": "execute_result"
    }
   ],
   "source": [
    "with open('input_3.txt') as file:\n",
    "    lines = file.read().splitlines()[1:]\n",
    "\n",
    "slopes = [(1,1), (3,1), (5,1), (7,1), (1,2)]\n",
    "len_line = len(lines[0])\n",
    "result = 1\n",
    "\n",
    "for h_slope, v_slope in slopes:\n",
    "    tree_cnt = 0\n",
    "    mult = 1\n",
    "    add = 0\n",
    "    ind = mult*h_slope + add\n",
    "    for line_ind, line in enumerate(lines):\n",
    "        if (line_ind+1)%v_slope == 0:\n",
    "            if len_line-1 > ind:\n",
    "                if line[ind] == '#':\n",
    "                    tree_cnt += 1\n",
    "                mult += 1\n",
    "\n",
    "            elif len_line-1 == ind:\n",
    "                if line[ind] == '#':\n",
    "                    tree_cnt += 1\n",
    "                mult = 1\n",
    "                add = -1\n",
    "\n",
    "            new_ind = mult*h_slope + add\n",
    "            if len_line-1 < new_ind:\n",
    "                mult = 0\n",
    "                add = h_slope - (len_line - ind)\n",
    "                new_ind = mult*h_slope + add\n",
    "            ind = new_ind\n",
    "            \n",
    "    result *= tree_cnt\n",
    "\n",
    "result"
   ]
  },
  {
   "cell_type": "markdown",
   "metadata": {},
   "source": [
    "### Day 4: passport validation"
   ]
  },
  {
   "cell_type": "code",
   "execution_count": 15,
   "metadata": {},
   "outputs": [],
   "source": [
    "with open('input_4.txt') as file:\n",
    "    lines = file.read()\n",
    "\n",
    "pass_data = lines.split('\\n\\n')"
   ]
  },
  {
   "cell_type": "code",
   "execution_count": 22,
   "metadata": {},
   "outputs": [
    {
     "data": {
      "text/plain": [
       "137"
      ]
     },
     "execution_count": 22,
     "metadata": {},
     "output_type": "execute_result"
    }
   ],
   "source": [
    "import re\n",
    "\n",
    "def valid_field(field, value):\n",
    "    if field == 'byr': \n",
    "        if (not re.search(r'^\\d{4}$', value)):\n",
    "            return False\n",
    "        elif not (int(value) in range(1920, 2003)):\n",
    "            return False\n",
    "    elif field == 'iyr': \n",
    "        if (not re.search(r'^\\d{4}$', value)):\n",
    "            return False\n",
    "        elif not (int(value) in range(2010, 2021)):\n",
    "            return False\n",
    "    elif field == 'eyr': \n",
    "        if (not re.search(r'^\\d{4}$', value)):\n",
    "            return False\n",
    "        elif not (int(value) in range(2020, 2031)):\n",
    "            return False\n",
    "    elif field == 'pid': \n",
    "        if not re.search(r'^\\d{9}$', value):\n",
    "            return False\n",
    "    elif field == 'ecl': \n",
    "        if value not in ['amb', 'blu', 'brn', 'gry', 'grn', 'hzl', 'oth']:\n",
    "            return False\n",
    "    elif field == 'hcl': \n",
    "        if not re.search(r'^#([0-9a-f]){6}$', value):\n",
    "            return False\n",
    "    elif field == 'hgt': \n",
    "        if not re.search(r'^\\d+(cm|in)$', value):\n",
    "            return False\n",
    "        elif value[-2:] == 'cm':\n",
    "            if not int(value[:-2]) in range(150, 194):\n",
    "                return False\n",
    "        elif value[-2:] == 'in':\n",
    "            if not int(value[:-2]) in range(59, 77):\n",
    "                return False\n",
    "    return True\n",
    "\n",
    "def valid_fields(raw_data):\n",
    "    data = raw_data.replace('/n', ' ').split()\n",
    "    for field_entry in data:\n",
    "        key_value = field_entry.split(':')\n",
    "        if not valid_field(key_value[0], key_value[1]):\n",
    "            return False\n",
    "    return True\n",
    "        \n",
    "def valid(raw_data):\n",
    "    fields = ['byr', 'iyr', 'eyr', 'hgt', 'hcl', 'ecl', 'pid', 'cid']\n",
    "    for field in fields:\n",
    "        if (field not in raw_data) and (field != 'cid'):\n",
    "            return False\n",
    "    if not valid_fields(raw_data):\n",
    "        return False\n",
    "    return True\n",
    "\n",
    "cnt_valid = 0\n",
    "for raw_data in pass_data:\n",
    "    if valid(raw_data):\n",
    "        cnt_valid += 1\n",
    "        \n",
    "cnt_valid"
   ]
  },
  {
   "cell_type": "markdown",
   "metadata": {},
   "source": [
    "### Day 5: find my seat!"
   ]
  },
  {
   "cell_type": "code",
   "execution_count": 4,
   "metadata": {},
   "outputs": [],
   "source": [
    "with open('input_5.txt') as file:\n",
    "    seat_codes = file.read().splitlines()\n",
    "test_codes = ['BFFFBBFRRR', 'FFFBBBFRRR', 'BBFFBBFRLL']\n",
    "total_rows = 128\n",
    "total_cols = 8"
   ]
  },
  {
   "cell_type": "code",
   "execution_count": 45,
   "metadata": {},
   "outputs": [
    {
     "name": "stdout",
     "output_type": "stream",
     "text": [
      "Max id:  901\n"
     ]
    }
   ],
   "source": [
    "def find_pointer(seat_code, dirs, lower_pointer, upper_pointer):\n",
    "    for direction in seat_code:\n",
    "        if direction == dirs[0]:\n",
    "            if upper_pointer - lower_pointer == 1:\n",
    "                upper_pointer -= 1\n",
    "            else:\n",
    "                upper_pointer -= round((upper_pointer - lower_pointer)/2)\n",
    "        elif direction == dirs[1]:\n",
    "            if upper_pointer - lower_pointer == 1:\n",
    "                lower_pointer += 1\n",
    "            else:\n",
    "                lower_pointer += round((upper_pointer - lower_pointer)/2)\n",
    "        else:\n",
    "            print(f'Invalid code: {seat_code}')\n",
    "    if lower_pointer != upper_pointer:\n",
    "        print(lower_pointer, upper_pointer)\n",
    "        print('smth wrong')\n",
    "        return\n",
    "    return lower_pointer\n",
    "        \n",
    "        \n",
    "def seat_id(row, col):\n",
    "    return row*8+col\n",
    "\n",
    "seat_ids = []\n",
    "for seat_code in seat_codes:\n",
    "    row = find_pointer(seat_code[:7], ('F', 'B'), 0, 127)\n",
    "    col = find_pointer(seat_code[7:], ('L', 'R'), 0, 7)\n",
    "    seat_ids.append(seat_id(row, col))\n",
    "print(\"Max id: \", max(seat_ids))"
   ]
  },
  {
   "cell_type": "code",
   "execution_count": 47,
   "metadata": {},
   "outputs": [
    {
     "name": "stdout",
     "output_type": "stream",
     "text": [
      "My seat id:  661\n"
     ]
    }
   ],
   "source": [
    "my_seat_id = 0\n",
    "sorted_seat_ids_list = sorted(seat_ids)\n",
    "for ind, s_id in enumerate(sorted_seat_ids_list[:-1]):\n",
    "    if sorted_seat_ids_list[ind+1] - s_id == 2:\n",
    "        my_seat_id = s_id + 1\n",
    "\n",
    "print(\"My seat id: \", my_seat_id)"
   ]
  },
  {
   "cell_type": "markdown",
   "metadata": {},
   "source": [
    "### Day 6: always say yes"
   ]
  },
  {
   "cell_type": "code",
   "execution_count": 22,
   "metadata": {},
   "outputs": [
    {
     "name": "stdout",
     "output_type": "stream",
     "text": [
      "['su\\negu', 'h\\nh\\nh\\nh', 'cpuqz\\ncfqu\\ncqekuv\\nxunqc', 'hsaygprt\\nhsfatgyr\\nsrtagyfbph\\nrgqywhsealtx', 'aefomnlihcsdpyvxurbkq\\nipudhrafbcszoxmeqknv\\nhpricubknmdoqsjvfx\\nuiwohncxmrpsgqbfvktd', 'tvruzqbyspjdfalicehwkm\\nhaswlezrvxjbtckfyipmq\\nalzkjcqpbsfmetihuvyr\\nrkjibhvylpfqscaemzt\\nzjctmrhpseqgfklnibyva', 'ix\\nakdhy\\nfelrouzwt\\nygs', 'pifgwbtvs\\ngkwbcpixmt\\npbrgitw', 'vex\\niyhmwl\\ncks\\nfj\\ndzsfn', 'xsvmdzrpq\\nipzmvdgsxqa\\ntcouzvhdqxwlspe\\npsjydqizxgv', 'sdcgvhx\\nieupwazvdxq\\nvgfxd\\nxgjdbslv', 'cla\\naj\\na', 'unvhtezsdrxjyka\\nsruxtezyjhdbkav', 'f\\ns', 'l\\nl\\nl\\nl\\nl', 'dqlpmwrfuaeioc\\nkzpyiembgthnj', 'ks\\nqoh\\ncftlim\\nukv', 'ekfwgpbaurcqijdvhtxznl\\ntafuqxhgjkizprsvylcedb\\neukbxaligpfhdvrqtczjm', 'muikcbg\\nithfkq', 'ojdwcsigaflpykv\\nuzjmbhrdlxnt', 'v\\nv\\nbv\\nv\\nvf', 'il\\nli', 'sfqoutzki\\nerfsuxcjqhtk', 'op\\ngbepq', 'vtzpwj\\nijmxtzv', 'zvoxpf\\nbwiexz\\nbirzwxq', 'h\\nf', 'pjiae\\npjkyza\\nakzptjb\\najipz\\nsjhap', 'xerdismyblco\\nyaiowgpsedtnzrhx\\ndilmokqxybrescu', 'bxeclkt\\nbighzytlw', 'itokcrbm\\nisa\\niwuq', 'rqcue\\npisb', 'gpdmiyet\\nmwtgl\\ngmtdz', 'hrselofawdu\\nroadesjfukh\\nsopadrhefuj\\ndrusaofeh\\nhsdoekafur', 'matixrjqfw\\ntraxmfqwisj\\najtqkrwmfi\\nipmwjaftvrq', 'eyvmb\\nbht\\nnkpbw\\nehtba\\nzdrsjxblf', 'efpgnzjdabsukr\\nkjpagiumfsbedzrn\\ndjngsrapubzefk\\nkfbzpeadgrujsn', 'pwnqbhjv\\nvwqhbp\\nqwbhvp', 'sdlizutpwkfbhjm\\nsdqvrpuflmwjz', 'uxahnymvs\\nxnrlpebt\\ngnzlxjfoq\\nkfzxn', 'amedtwkgxcypbrqnujvifhs\\nsaxvbymtfrhgdiwqjnkcpe\\nerjkmaigvdfxcnbtyqhwps', 'ivb\\nvbi\\nvbi', 'gme\\ngem\\ngme', 'h\\np\\ne\\ne\\ne', 'b\\nb\\nb\\nb\\nbl', 't\\nl\\nl', 'zda\\nefmil', 'ulx\\nsolxwu', 'gclsqwx\\ncgxswl', 'qawroeb\\nowfeqlzxbn\\nigratbowseq\\notvcqjbegw', 'mcahbeizsjovynpx\\nnsbdiclahpmxyove\\nqgepcisukanhmwyv', 'cogbsyu\\ncusogb\\nuxoscbgf\\nbpugchsort\\nbgocmsuv', 'jxigcazhlfsruwetkpynmvqo\\ndrkvthunlgcsyeaxzqpjfwimo\\nsyaeqcvmuxpnkgtwjfhbozilr\\nmgczoqvyhjuxreawtnkfpsil\\nacouwfqpjtgkrxyzivehsnml', 'xpyldvrbug\\nfalxpgdzuhsvrt\\nldewxuvpgrtm', 'jzbpury\\nhlgzxrkpouavq\\nemirbuzcp\\nwnfumipczrb', 'liydasvrkgqe\\nayidqgrsvel\\nvdjygiulearpws\\ngvedasikylr', 'ikatocyfxps\\nspaoikxctyf\\nckpsxfioyuta\\nwaxiforkpystc\\nxcmykipsftoa', 'zxleoadsyv\\nyovaleu\\nveaoyl', 'qnmkplahgtubszedcij\\npscidealhtqjbguynz\\njqseucdgzbpilanth\\nliahqmuznjscdbpgyte\\navqrielhntdjzpgxubsc', 'uflmyhndsqboxv\\nmnlofduxbsqyvh\\nkvoptzfmrgysanuhxblqdjec\\ndfsnbvxolqmyuh', 'ihrjpxygmfudqwcaoezt\\njdlbmonxwraiqyctzhvupfe\\nutfhadqciozemwjpryxg', 'mcy\\nmy\\nym\\naym', 'euktqozh\\nqvjfhalk', 'ziblapqkvhcmdte\\nlfqkvdeaicmztph\\nmliqbcvpkathz\\nylwiochpqmtakvjz', 'oahnmutxc\\nhncxomtuva', 'kfnsgxhiyzcbjmwvloe\\nezciqlkbmspnfgx', 'fatwrkenzmlij\\nrftamzejnskiwl\\nnlifwzaerjmtk', 'ygpdfunhz\\nycfquwndg\\nygfnud\\nnfrygudbt', 'wargt\\nvzumj', 'pevirabdgyntjmfzxu\\nfbajcpgwtmveixnyzu\\nfqkgtevmuiybnjxapz\\ngufjytsplnvamozeixb', 'n\\nw\\nwsp\\ny\\ndheck', 'dyltqraen\\ntpsgabzmoexn\\nrvkailytneq\\ntfnayeihu', 'ewsxrgjbqyno\\nqmswbxnjogrye\\ngobjqesnywxr\\nbsyexgrnwjoq\\nrbjewonsqgxy', 'stwikjqlp\\nlrsiupwhofjtk\\npljtwiks\\npwkijqstl\\ncslkjtwpiq', 'tpdekxavhynbmwq\\ncplmqztabw', 'tagofzql\\nleaoktp\\nltnuaoxv\\nkylztoa', 'cyhkmbsxfwjndv\\nxykhbcfvmenwdsj\\nycfmjwvnbhxskdz\\necvmhdkjbwsxfyn\\nxbksdmhwfjvycn', 'dwhonqeszgyucxip\\nilbhvtupfksgzm', 'oazfpt\\nozfpbt', 'yxor\\nxrbe\\nbrxe\\nrx\\nerx', 'd\\nd\\nd\\nd\\nd', 'ihnyoscrtazjfwme\\njibycpvemkqzas\\njbaivmzxsgecudy', 'kmsp\\nsmapk\\njmpek', 'wbeoh\\nzon\\nfzoq', 'cmbwrupzjkq\\nqzbprmkowuj\\nrajuzkbwmpq\\nljrpxbuztwiqkme', 'ijnglzsbcqfawohpdxmtve\\naqpzxbndsfgtomwlvehjci\\nambcxwlvdzqftenorgjsihp', 'rbjtkm\\nkrm\\nmkr\\nmrk', 'qjkdftrpnumcizayl\\nwqplnjcudgxzmkriatyf', 'qlhrxgeftoy\\nbzorhtyxlpqegf\\negbolyfxrthq\\netflxyhoiqrg\\nfyruhtqgoxel', 'ydogmjnixtkw\\nyminkvjwfpdqgo\\nnigxjwoykmd\\nigwjnydkxom\\nnikydjgmow', 's\\ns\\ns', 'mctyqjebhrx\\njmteybcxhq\\nvmbtseyoxhacdl\\nmiyeqcxhtb\\ncmuybexth', 'j\\njrn\\nj\\nj\\nj', 'gjwhqzotyivsa\\ndncumikebpr', 'rjgvkwqib\\ndumtbxzowfylh', 'oge\\neivjdbkmcywg\\neg\\ngfoe\\nge', 'qebcdswmkoygivfhzt\\nhxyztepdnocigquwvbfa\\ndgtwcyhfivboeqz\\ncdhbgtveizowfylqk\\nyfzbqhlvitmcgwedso', 'evhlbqwtrfx\\nmlfbwh\\nhbflwp\\nbfwlkhim\\nwhnfbl', 'pcrf\\ncrhf\\nfcr\\ncfr', 'okxihbndges\\ncfheijbgqotnsk\\nyngobhskevi\\nrgknsoielhb\\ndknoeisbhg', 'nztcvyikjfx\\nfkityvjxnc\\nkjvnfycxilgtp', 'tjlbadpizowyev\\nqehgkdrzbcvotlay\\nfalbynztqeodhv', 'x\\nx\\nx\\nx\\nx', 'ausbpe\\nsbeauop', 'ftgly\\nbf', 'erhokg\\ngekohr\\nhrgkeo\\nghreko\\nhregko', 'ag\\nga\\nga\\nag', 'vempgsokyfctax\\nckonsxfptmyvge\\nyxefdorjmuzhvpsgwbltck\\nesxmcvgykfnpot', 'thob\\nobe', 'xg\\nqyalvxc\\nxg\\nx', 'sqyowmanjczfebkulxtvgid\\nfahgqzenwypcbrmtvjslok', 'zohlmctqxnueg\\njhpbgfkds', 'fyj\\ncwojdbf\\njtf\\nrfjt', 'hycpvrmfqlngu\\nvmqcypgunlrh\\npqmhuvylgncr', 'rxgswj\\ndwsybphk', 'pcozvsdx\\nkvznm', 'xneik\\nxkin\\nxinqk\\nnxsjik', 'btfdr\\njbqcasvpd\\ntkubd\\nubdxwr\\ntowilbd', 'bfjidznx\\nnxbijdzf\\njzfxidbn\\nnifdbxjz\\nnzfbidjx', 'kjnydrclqeiumxg\\nfoidejlnxgckm\\ncoinexmgdlkj\\nlpckgdvnhmjxei', 'upnhgfa\\nuhfpn\\nuhpfn\\nphufn', 'hvyqepkfdsulzb\\nkfdepzvyhqlb\\nyezgbkqpvfdh\\nyzpfkegqdvhb\\nykveqbfjzhwrpd', 'lvndux\\nuxdnlv', 'skymq\\nyqmi\\nyqzm\\nzymutq\\nqym', 'lgnxbpzsce\\neczlspaibgt', 'raimheuwjdlsvncoypgzbqkxt\\ngcwavnjedbxsyfkqlprthuimoz\\ngjszrpmaxbydoktivewhlqncu\\ntojqzuenragvmxckiydphslwb\\nxeacszmjuliyvqdgkwprbnoht', 'eahlnzupx\\nulhmektsxdyjz', 'zulrwsdaq\\nrqilsadz\\ntarlisqmdz\\narslzdq', 'pwzjtoafs\\npzjwoafts\\njoafwztps\\nfzstwojap', 'qbsykroiwcmzugealpxfjtdn\\nrcketgxqjupwzbymofaidns\\nkbngvtqdysrpumcejwaifozx', 'vxpyulwietrmfqbo\\ntyeqbwxprmvfl\\njlqismvbdprexwtkyf\\nbetvyxlrnmwaqfpc\\npqywsxoerfitvmbl', 'osgilzptxmyhdwnbkjucvfq\\niovflbqpkshyxdcjtg\\niphsqdgyjfcevlotxk', 'pdmxwbrzyk\\norxtiplgmeua', 'rkeaoq\\nmuncxwzvjtfp\\neyhkiqso', 'acjpbvh\\nknmspwuebjyvgft\\nvbjpd\\npqbvrj', 'spld\\nqlaogwv\\nfhzjnmixyrut', 'khmw\\nsjqdtwk\\npckw\\nokwjz\\nybvnuakxwgr', 'js\\nj\\nqj\\nj\\nje', 'sdqftlargy\\njrmtgfaydoizsl\\nrtdlwafsyg\\nrtfylgwsad\\nadgltwryefs', 'ujxfzvaptw\\ntxuwfjzp\\nvjuzfatwxp\\ngnzfxptwju', 'ltnfhrdwxv\\ndnwxtprhfv\\nhxfdntvawir', 'sd\\ntl\\ndvytb\\ncv\\npofkherqumi', 'bnhwe\\niwesc\\nswe', 'xgukzobv\\nxkzugbafjrov\\nebxukzgvo', 'yor\\nior\\nryo\\nroyk', 'wj\\njzw\\nwj\\nwj\\njw', 'pigbdcozntylm\\ntoxilbam\\nbixopln\\nbvwkrloiefuh', 'eduk\\nuekd\\neudk\\nckdue', 'vulk\\nklvu', 'jeyafmuqxd\\naoxfed\\nedxaf', 'sjbkveaymcdtgx\\ngtskxcyqmhvjarfn\\njrngyohawxkqmpcvst', 'fmubgnqisdyax\\naxnydgimfuts', 'nzkrjofhqiubspv\\nfksopnbuihrjqvz\\nvhrbipqfjsozknu\\nurfvnibojqpkszh\\njvnpuzkifhobqsr', 'ctikjyqxempoh\\ncomiqtxhjpkny', 'whbdemfkursty\\nryfuqxvkwmbesht\\ntkrumwhfsbeya\\nryefhwstbmukn', 'xnd\\nflrakdi\\nrlps\\nehqtbzvjgcouy', 'qvwihfpbd\\nimsfuvbrwhd\\nfvhdipbw\\nvhifdbw', 'uezrmltpvhd\\nfykjilqzsac', 'davlkgpqbwuc\\nbgvdnwlcuakpq\\nabuwhqckgzvtdplr', 'nd\\nfdrjxc\\na\\nbmzeuwq', 'luopqihwtygjda\\nhodyuwapglqjbrti\\nagwqcijhduoyplt\\nqypgdtjlahiow\\nljpskhxvqwyafiotdg', 'nhkdmtw\\nthyknm', 'jnfxrctwgqahudmoiyvs\\naxdtfwsonugzimcjrhlyqv\\natcnfovyhjguxqimrdws', 'ue\\ncm\\nxrnozk\\na', 'n\\nn\\nn\\nn\\nn', 'fojreag\\ne\\nenq\\netdzqm\\neb', 'wfsakpx\\nisfaxk\\naxwskvf\\nxeldakfsu', 'kzpwfxhab\\ngfkqxdhtpbwz\\npfhazwxkb\\nwbpzfkxh', 'tbcn\\nmg\\nvbkmg\\nau\\nsfz', 'vangwftohxdbrzy\\nvohwdnbraftxzgy\\nxvozdtfargyhnwb\\nyardwbvhtofxzgn', 'irfa\\nirawf\\niraf\\nifra', 'jbtsqvywarn\\nbajcviqwyrt\\nkutgqjmlxaryzbvwo\\nrwsqjevdbyat', 'iyhg\\nhyg\\nhgy\\ngyh\\nghy', 'qwidmahzfcueoskvlp\\nfkysbnihvumpaegtd\\nkaemjsurfdvhxip', 'oujsvbwceghnlpzxraf\\necaogrvjxluswpnfhbz\\nazexcujlfosbwnvgrhp\\nbusrxgazjvpcfonwhel', 'ughqky\\nntdwhmblxearjogzck\\nhfkyg\\nqighsk\\nkhgp', 'cuzonhjegy\\nzujhocvnyeg\\neoculrnjbgzywh\\nhjzcuyoegn\\nugzvhcemynjo', 'lrigswxvmcqofua\\nowxmivacesurglkjq\\nwcmaqsirovxnglu\\nlisvmugqxrcofaw', 't\\nmj\\nm\\nj\\nzdl', 'nmsexwigtjulcy\\nfavyolnmgqtbrjkw', 'w\\nw\\nw', 'gxu\\nutx', 'mcgfu\\ng\\ngr\\nrg\\ngp', 'rhjaizdkxup\\nerblofajmvspxt', 'zt\\ntzf\\nlxmcowgyk', 'q\\nrux\\nq\\ng\\nq', 'uantxs\\nsnwukxvjo', 'rixtwvc\\nvwciatx', 'ycipkftmez\\nyimcftepkz\\nempozcyfikt', 'aijwrvfmgyxlbztod\\nznytdgfbekxlpi', 'svqgfxh\\nnvkqgseaxh', 'mgqxhbl\\nzkvgqlbxm\\nlqgmxb', 'wq\\nfm', 'ktydgbsziqehmjfl\\nksihgtdfjylze', 'ne\\nne\\nne\\ntenx', 'vzcwnxfimj\\nicvxzjmnwf\\nvzcmjrdxiwbnf\\nwjxnmfzcvi', 'dwy\\nh\\novk', 'nbowqrxlpyzifjvka\\nzyvxrolwfbpikqa\\nvkqdwrbyiapzxofl\\nkzebrvfiqypaomxlw', 'zjksb\\nzkjbs\\nzkbsj\\nbzksj', 'oeimldgvybkrznxhc\\nejfxokaqhzd', 'esvbydlxc\\nnbvcxlyes\\neoclzgsvxkmywb\\neltvbcsyx\\nvnyelctsbx', 'hbjpermvdoc\\nhmjpercovdb\\npjchombvred\\nvdrobejphcm', 'ipbeqnsmujhvtdkowc\\nbhmtonvedjkiuwcqsp', 'a\\neg\\nt', 'vcmogkuapqrlsednzh\\nlvhzknodrcapxuetqs\\nnurkabhsywlceozdpfqv\\ningvptqocaszlkurehd\\nskchauznlpvreodqg', 'oaqcwxnjr\\nbtdki\\ncahmjsof\\nvuegzpyl', 'cvy\\nvyc\\nyvc', 'pqrtafjgizcldshx\\nldsrhuqpjafgctinx', 'p\\np\\np', 'bwjtu\\nft\\nfbp\\nqosmg', 'oixgna\\nwangjr\\nxomcdugal\\nagkftv', 'tvzoq\\noatqsvc', 'xvnkdyz\\nkzdyafl', 'cxaquiretkwplvyszm\\ncmlqxwuertsozyaphi\\nfjzpsbytwnrxmqadgiceul', 'fnb\\np\\nb', 'xvjswmpu\\nfuwspvxm', 'ofwkhlpbdarcze\\neopfkwbazrhdl', 'm\\nc\\na\\nm', 'cnty\\nybonsp\\nnykrh\\nhnyc', 'tunpiybzjvskxwrgh\\nzhfcxlatqbmdygwrosev\\nyzdvgmxhesrbwtq', 'bflvmeipqojdngtyxuawh\\nktdjovceibnugpsfymqxhl\\nvbueothjgpxfmilndqy\\nqjinbdmfoerpvhglyutx', 'd\\nd\\nd', 'vcmh\\nmch', 'ti\\nbt\\nrwhfdxtsy\\nti\\ntmbi', 'ftiokrw\\ntofkriw\\nwitkofr\\ntkowrif', 'akfsdozrbuleytnjivq\\nvaefyztrjboiqskhln\\nladtnokzvirjbsyefpq', 'kyzuqsnpmclrhi\\nulqznyrsckhpmi\\nzilfphqmucyrsnk', 'yrtjqxbfmalw\\nzsfmbqajcrgxyltwkv\\nyqmjaxwolfbrt\\npnxlqmyrbwtfaj', 'qukbzapi\\nuzakbq\\nzkfbayv\\ntkaznb\\nqlbazk', 'pzfdbhyav\\nswlmrnt\\nrmw\\njn\\nluqm', 'fmkgtbahndrqycowsplxiv\\nmicuraxlznwhgbfkystqpo\\nghrnsfwkcaoyimlbqtexp', 'kougsrdnt\\nxtrd\\nrtlwd\\nhrpdaty\\nxrdptm', 'nivmqo\\nivqnmo\\nvmonqgi', 'tluszyrbkhg\\nrhyucgzetibl\\nwyuetgnlrzmh\\nrhdzvluqajotgxyfp', 'vhqmbdneyafzgw\\nlhwkvpaidgmyjzerq\\nhauvndomegwzqty', 'jcwlh\\nlwch\\nltcw\\nweyckla', 'vcfrjqsgdtilbm\\nedltfjsrcmvbgih\\nbcylqfrmvstdgiej\\nfjbzklvdnwasmptcgori', 'acyvqjfgopdzksmw\\ndzofksgmycawpjvq\\nfogswakdzxpcyvmjq\\nmwqzsoydfcagpvjk\\nagsmowfzpykdvcjq', 'imxe\\nexim\\niexmd', 'zkxaqfudyi\\nyacupxzkdqebfr\\nxwfuakhnmqvdzly\\nbqfydxakzru', 'ohaj\\najho\\ndjoah\\nohaj', 'xmra\\nmpa\\nmwaqn\\nam\\nanm', 'sgqjafrnbm\\nqfmrbjnas\\nrsfnjabmq\\nnsyjrbqfawm\\nmjfarkqsbn', 'fba\\nvfo', 'fncekxpr\\nepkbzds', 'qrpejclbhaf\\nlzcirpeqahjbf\\nlsphcjfbqaewir\\nrpnehulvcqayfj', 'ejkpzwght\\ntzkjegwxph', 'mxtojefrbdlnkwaz\\nmnwzjrbkaxoietfd\\ndaktrfexnojpbzmw', 'zyeq\\nyzq\\ncwnax', 'pvqzxgs\\nxfqvszg\\nxsqpzvg', 'banycodivlqzt\\nmjbkheui\\nrbwixjf', 'ltq\\ntlq\\nolxtq\\niltq', 'kerwtgcizshypfnxajdvolu\\ngueyjtxonfrsliw\\nlwruobigyesfnxtj\\nleqrmsoyfbigntjuwx', 'qsfokthwrlx\\ndlxosjagmr\\nxljorvsg', 'dgohszbxkmvw\\ngwzsboxvchkm\\nxkzohpsgwbvjm', 'mquspzhxlgktcid\\nxqktughicmdlzsp\\ncusqlzghkptxmid\\nzlscphgxdutimkq', 'vbrlu\\nrbdvel\\nlubvr', 'mkwzhyinogvxfl\\ngwzovxnkfhm\\nbksxgwzmvohn\\nmnwvgxlzkho\\nhgevxtklmwozn', 'm\\nm\\njb', 'fjidp\\npjsid\\ndfpji\\npdij', 'nvsmdfhlzowxiqjp\\nnpzqlhxifsvomdwj\\ndmfhsqxvnjwpzoli\\nvxoflmpdqzwjinsh\\nqsjwxoifldmnpzhv', 'xthm\\nmtxh\\ntxmh\\nbtxmwhd', 'b\\nc\\nkz\\nc', 'ohvnbcapejswtmrk\\nawskorhblqjepvtm', 'tvygs\\nysvtg\\ngvsty\\nytsgv\\ntvsyg', 'oyzucnqkxrimf\\nquxnfyzmckir\\nmrfkcqxyzniu\\nyferzmqixkucn\\nkfinqcrymxuz', 'gbuti\\nbniufgtw\\ngiubt\\nigutb', 'jgtmbxs\\nmcbsxjt', 'huilkbsfytevzxwa\\nibuhkapfyszedxrv\\nyufsaojhzkveibxg', 'mnswgtfdojhazrbq\\nathqodnrgwmzsfjbp\\nwtgdoaiuqnfxshbmrzj', 'wymeobr\\nmrycewo\\noghswaxmzyufer\\npemowyr', 'vxcfqtzadwkmipnr\\niuarmqnpvdwkztx\\ndktmqbnvwarzixp', 'w\\nl', 'nprsxahzgfjltmwcbie\\nzmrlbnegfxscwaiphj\\nxzlwhejamsbipcgfrn\\npwrealhncjbzgxmifs\\nmzwbepsjarflxnhcig', 'rqnie\\nqxnimer\\nineqr', 'ergmlia\\njgtxbszvfhy', 'tpbklr\\nplbtrk\\ntlbkpr\\npkrlbt', 'e\\ne\\ne', 'ozqnktgywfjsm\\nywfzxqcnomg\\nnqgfeczamywlo\\ndyfznqiomgbw', 'sxzgtkpvyedf\\ntxgeyfmsd\\ndifagyxtse', 'qoehywxtjgpdkavfs\\nbqjdigkxtwyfphev', 'dmni\\ndimn', 'tfrvu\\ntvaqruf\\nruvztfwy\\nvuftqr', 'ydlrkcnoqahzjs\\nfhlnkersbcy\\nervyucshkln', 'axkgudrfbvelt\\npjuegtolfxdvika\\nevlkdfuzatgx\\nbxtvaefudklg\\netxdlkafhguvr', 'hdcnjpfkbevusm\\nmblvpcfjseuhdn\\nbskjevpcufdnmh', 'wqnjbpoduamhytfkievszlgxc\\nxjlygvwsmhnauzkipotb\\nixjknowtgzhbvumpylas\\nwtgnmbxriuhjplvakzyso', 'tl\\ntjl\\nayufcpid\\nzxlm\\nzm', 'cnmwbldgaisjyzpfq\\nfjmrwsdibzqylcgpa\\nlozcsdmqfyaijpbgtw', 'dtf\\nfd', 'uqmtlwkfvo\\nyhpgrcdi\\njhsnbezaxp', 'cefj\\ntfjce\\ntec\\nwsec', 'onazewv\\nwavykhnzd\\nlxsgvrzabmtcpq', 'nbcrxusghzimepqa\\npsqieacnuxohzgmbr\\nxhgrbqcnfvuspieamz\\nrixebsnmcpazdgjquh\\nsngeamhprxfcbquzwi', 'grydbjpzscfunwx\\nqcakmej', 'idhbcqoxzfuvt\\ndtocbufh\\ntfubdohc', 'yrp\\nypr\\npyr\\nyrp\\nrpy', 'bxlkfmjhqawictrnyvdpgus\\nunbrdyifkgwcsmptjhxlaveq\\ntlzjsycbnifvrdwuaphmkgqx', 'edkclbw\\nelwabdk', 'iehpmokrctn\\npydojmegufz\\nmpxoeayujw', 'ewdarsfjpvlchmqiboxg\\nsfewicgrvdoxbmalhjqp\\ntsphvciwfqdgrexalbomj\\nvsxjleqokrfchybdpmiawg\\nrlqeiwpvacogmhjfbxds', 'y\\ny', 'vshoznkgwcdimrp\\nnzdrkoiehltvwsmg\\ngsjyoarznhwqvkdm\\nfshedmouvlrnzkwcg\\nvsokunwzrbdmhg', 't\\nt\\nt\\nta', 'paejgztcsxq\\neszajxg\\nznjdgasxe\\nigxezjnas', 'ufakhtvdmr\\nadfmjhvkrtu\\nvmktjrzfdauh\\ntumkdfvhra\\nkutmavlhfrd', 'yxcnqsb\\nhpufomvwaz\\nlgai\\nagfdw', 'bytx\\nxrt\\nrhdtx', 'qcuypb\\nycwlknup\\ncpuy\\nucpy', 'l\\nl\\nl\\nyl\\nzlx', 'kradgyufzbxwole\\nxydwzbgfauole\\nalwugfoxbdyze', 'rob\\noer\\nor', 'smul\\nlhms', 'hxrpgin\\noxpcm\\nxpmc', 'ekcjs\\nnbkqpfjsc\\npuckyszjo\\njsckb', 'mtakdsrxwecgozyi\\nlijgwkmsratdxoyzu\\nhkrtxgwyiamodsz', 'ucnfl\\nnuflc', 'uoh\\nshog\\nosh\\noh\\nhovazw', 'aywsjgbkn\\nwgbqynskij\\nybsgknjpa\\nykqsbgnj\\nbzsgdxcnyjke', 'zwlxdg\\nwxgnlm\\ngdjwlx', 'vfkurtlgnqpszwod\\nnvtksfduzwqprglo\\nfkolzvndqwgurtps\\noklfvqwtzgpunsdr', 'rbwfldicv\\nfopvzijb\\nhukbvgfqexyi\\nrnzvisfb\\ndbizvpaf', 'ruhvznkbqsxpmla\\nzhbxpvaqrmknuse\\nzbsrukpvnmaxwqh\\nazqrbmnsxkhvpud', 'onsfuwzlx\\nolsxufnvzw\\nozfluxswn\\noxwufzsln', 'xgzhikqe', 'pmwhykbvjduq\\nmxpfyjuvswah', 'eylbn\\nvebjwf\\nprhomzs\\nb', 'xqsvyfjgr\\nwqxrsl', 'whapjuqyd\\nuqgpwajd\\naqwpuj\\nsfljpqnmaiuw\\nkabjpqgewvuc', 'cyrpbuoslqkz\\nzybkcxqfsrnue\\nyszrkqtucob', 'rtweslzqynuoxhmpbc\\nwuhbjyiackqfvpx', 'ahisomynwvbgklpjuzrxdtc\\nlxavshmbwykztcuniorpgdj\\nirdcxlzskwempjvghyatunbo', 'nlswcqkhvmxyfodrjizegu\\nmlxaqjovndhyrcgiufzse\\nfjdugnmlyeqzciovhxrws', 'suhwdifyrk\\ngiwtnkpsfauydmc', 'weshq\\nqajovwhi', 'ph\\nph\\nph\\nph', 'mrouzhwixysv\\nzarmsieovtyc\\nyrivmozs', 'vsxbz\\nsvyxbzl\\nszqvxb\\nxzsbvq', 'b\\nw\\nw\\nw', 'cwetnkaxfvgirdphsolyzj\\nkapdhrvxezgwyfolijncts\\nvdlwgrocshaexyktzifjnp\\nikezpjoraldxvfshwcgnty\\nfrdysohpmjtlkxgzewcanvi', 'wcoqzgbitjlyad\\nduoznymtjbiwca\\nwpahfobjcuiydtz', 'aclkhypervifzjbwqgxdstu\\nsxlarjdgifwbztkchpuyvqe\\ntfdbrjxepvkslwqzciguhya\\ndyltqaruiwgckjvsbfxzhpe', 'qylp\\nqpy\\nyqpl\\nqype\\npqy', 'xrkebt\\ntbrkemx\\nkebrtx\\nxketbr\\netxrbk', 'yucsht\\nsycwu\\nvkuzcysl', 'qlfbrenuhm\\nqzfrnelmu\\nlrixmuefqn\\nqjmdspkfornela', 'vmtc\\nd', 'ait\\nita\\nait\\nati\\nxavti', 'bxoygq\\nmtgbyoq', 'nkes\\nswkeg\\nkes\\nksen\\nkres', 'saouewqmlfd\\ncygzlhbndtukixj', 'mxuboivyfpctzkael\\nqjbtgukilvmy\\nmktqbvhilnyu\\ngtjykviblusm\\nklbimtvyuq', 'fbdnvswoxpakthuz\\nadwhspktonufxzv\\noamtszpdhkwyfnxuv\\ntudnvpzawockfxhs', 'ugxpjzytdbm\\ncerilwoby', 'onpmy\\nmylpo\\npmoy\\nlmypo', 'jaf\\nafr\\naf', 'casenkqdir\\nsicuanvekrxh\\nyizacrkosntpe\\nagicxnrkesw', 'jqt\\nql\\nqg\\njq', 'wc\\nw\\nw\\nb', 'hzr\\ng\\nh\\niabscl', 'hqwpsagbnldrukzjifytx\\nzpfrqidyshjkgwaxbtnul\\nfjiprlyakugwdqzhtbnsx\\nfiarukdwntlyhgzpbqsjx', 'czukvtah\\ncomukqhjbra', 'wmhncxkspailt\\nuxfkbmrgt', 'teolabiy\\nhpktibyaxoc', 'bqyarip\\nwiyp\\npiny', 'mtrgebyouwfk\\nemwjyfrut\\neruvtfywm\\namwyfunelrptz', 'niduf\\nnfdiu\\nifunjd', 'pelahycbn\\nhpovfylkcbn\\niblwzqmxchgdstn\\nbnrjhkcul', 'sfjzl\\nsa', 'b\\nd\\nj\\nji\\nj', 'zshvimlaw\\nalwsvmhi\\nvhlwsami\\nvhsawlmi', 'awvgejcbhlsintoupdf\\ngajfxdoebcphnsuwtl', 'tuickvpglhw\\nlvthdgiuwp\\nshuivyptl', 'nlxwpzuigcq\\nlcwpufgxzniq\\nwlxzuniqpgc\\npjgxclzuwiqn', 'tsozgkq\\nlmvyuqracphne\\nqfitdwgkzjx', 'k\\nzk\\nskh\\ndrkup\\nablk', 'qcr\\nlq', 'm\\ni\\njy\\nm', 'hrsgfwaeytpl\\nrifdnaq', 'detrifahwgjs\\npiagxwmfsrhe', 'g\\nl\\nl\\nt\\nu', 'xlphfs\\ntqnc\\nknrgiu', 'auscpvhwfnkjgxdbtlzo\\nwldqsafnxycpjzibrvu\\nfzpdcuvngbxwslaj\\nflsdbuwexnvajomzgpc\\nwazdljnbuxcfpvs', 'ejpwgam\\npmgwja\\njgawmp\\nwpamgj', 'jlupvzoyitmkeagfqnxswch\\ncsahitmwogflvunqxkjpzey\\nvquxiozpmjatncwsykhlfeg\\nihoejuxnwtsckzylqmfvagp\\novgfeciumakxsnpqyltzwhj', 'rlcy\\nlyrg\\nyr\\nhyqr', 'pnv\\nnp', 'dxirheclfvkugyq\\nlmqcngrihtbzkoa', 'xmdr\\ncxdm\\njmxlsdgq\\ndmx\\nxmdo', 'tomwqa\\noqawmt\\nkwtbmaoq', 'jm\\nw', 'dem\\ndme\\ndejm', 'u\\nu\\nu\\nu', 'dhqxlsbnp\\nudbspl\\nldbspc\\nkpsldbu\\nsubkldp', 'wconqgth\\nvuhrlnzgt\\nkghntm\\nzhgnrt', 'tubwopjkrsglmfdqn\\nkpixtmabowfsjlezdnqrcg\\nymjnolpqstbvfrgwkd', 'fykdachlrtxupbgq\\naprdlbchfkguytejx\\namvksrbwzlcfhyxgtupd', 'yac\\ncay\\nydaeoc', 'yva\\navxy\\njyv\\nvyo', 'ryozihbkmxegfvw\\nljexptfsyiwqcv', 'rszwmnhjp\\nmslwygz\\nzgwsm', 'lshvanz\\nvnlha\\nvnlha', 'glrmyfequjpboiczkhw\\nuozqrgjhwfceyidblmaxpk\\nwckorliguhqzmyfbepj', 'bc\\ndcj\\nbhc', 'ed\\ned\\nde\\nled\\nde', 'geyxwujopkzd\\npkwuzxjdoegy', 'fplwjykaod\\nrgz', 'qgpz\\nfpgaq', 'yfwzkgqej\\nvuzed\\nznhsecid', 'vlgxshtipzfj\\nvghilfsztxj\\nhxpisvfgtlzj\\nizshytgluxfvj', 'wyhoqaieuzf\\nlcjpm\\nbtdxknglc\\nrclts', 'qucrslhpoywjidgkmvab\\nbvlidmwphqsoaykgurczj\\nramesuijngcxpqlkdovbwh\\nubapcqvshrgklwimojd', 'wfhcyjidtlqokx\\nnhgvuwobcklisdqm\\ndrcnwvqslkaizohb', 'fidrkaw\\nfr\\nrueof', 'izypgsvlhfounrwemtdkqx\\nyfthniwaxlskqopvurg\\nxnqpustrywighalvbfko', 'gkihqofrasyz\\nxptgbqkim\\niemgxqkup', 'rstvcynoaxpejid\\nxajeyproin\\njixpmoreany\\nmriewajpxgony\\nrjaepyngiox', 'hysqpw\\nquwtyiph\\nhyqupw\\njvfrnywqhlp\\nhwypqu', 'vojesgyt\\nvgeuyoj', 'kq\\nkgq', 'qash\\nqhsdvl', 'ogecvxt\\ngvtcxqeo\\nxtvcogeu', 'aiuzktwjnshlevr\\nixuwcdgptmfzejl', 'mlsu\\nluy\\nwl\\ntl\\ngolfv', 'ujxfyqdpchbk\\nmckfrhiqudxp\\ngkhbuxpcdfq', 'kamydczqfrsvg\\nszgkfuvyicmrqa\\nsmcfgykqrvaz', 'hdyistonwvkuxm\\nuqospkewltar', 'iloqsexhubfy\\ndeuiqbhfylxosw\\njqheudxwsiblyofa\\nslahouqefyxib\\ngfntrbcyqxoeisulh', 'rtkqzxi\\ntxzi\\nvygxiwzt\\nexztaci', 'pscgbunrdmlxz\\nvmolpgzcxndr\\njrompngxdczl\\ncxdlznrmgp', 'myopnajkcxd\\naoxdymgknjc\\nfayoxjbdclvsnm\\ncmjaxnoyd\\nadenpocymjx', 'gwurxpealzqfn\\nuqanelrwzpfxg', 'p\\np\\nqgmpt\\np\\np', 'osjvfthlruqecwdgab\\nomqzlxkfuybce\\noypfucqleibnm', 'jkylogfscpehwnzudbi\\nyvqcuehfbzwsjplniogk\\ncpgeosihzlbkwynjfu\\nekcwtnyjsgpohfuilbz', 'bqoxplvhnmgs\\njnmozhsdgqclb\\ntuhbnyoqsmgwl', 'pyanchrwtoqe\\noenqatcphw\\nwpqcnetoah\\nnwqcapteho', 'wndqsh\\njfgnq\\npclbvk', 'gwav\\ngawv\\ngawv\\nawvg', 't\\nzd\\njfcl\\nt', 'ryhqtewijk\\nfnqwhjkyrie\\nqhjwrynki\\nkogrhwuixqypj', 'vhytdaqf\\nvyathqdf', 'vyeizmaopnglsqcxbdr\\nacoixrsbglqvyzujdp\\nbzqagplxovdcrsiy\\nscxizbrdvpqgolya\\ncylxpabuiodgsrvqz', 'hp\\nhs\\nrzuh\\nhe', 'glxeqjf\\ntmufqbxiekdcj\\nfxslvpeqj\\nnzgpxjeqf\\nxnzjlqefh', 'fcwd\\npxnowvtfrc\\nlfcw\\nwqgkcfd', 'teblqdskjwymgipvfocanzr\\nglbojevqktirspuydncamwfz', 'zftjgnpuc\\nzrcuqjtfn\\nirdutbecnz\\nnkcovuxzswmtlyah\\nztqncdu', 'kdirczys\\nskrdzciy\\ndcszyirk', 'weytvzmidgnbxl\\nqdxfpkblsrouajvw', 'gmdupkbl\\nklhtgdmsbp\\nnbvpmdlkg\\npzibclmyeodqgk\\nmpbxldkg', 'ikchnfbqgymdwpet\\ngkmfnhtwxiqbdcyve\\nmgdecfiotqknhbaw\\ndsmrqfnkyctighzewb\\nmqehgkwnscdbift', 'rzdnimcaxe\\ndceaxbmzrt\\ndmrecazx\\nzeuqxmchlrydak\\nrxeaczmd', 'nlbecfu\\nnuelcf\\neufncl\\nfluenc', 'skoltxqicvwfbhzdupem\\nilqsfyouaxvkwdcpth', 'gvecuatmospxl\\nmhbxcyskojpeluv\\nupfslomxcnve\\npqvmluiecsox\\nmnpcfxzueloavts', 'mxquegw\\nesgcbif\\ngevrn\\ncykzdhge\\nbgzkieadl', 'hna\\nnxha', 'qmorc\\nrmcoq\\nmcrqo\\ncqorm\\nqrcom', 'tewncgarvqjdoumkb\\njgwqdbcmorevutkn\\neomtvngdjrbcqkuw', 'aeckhjmvzn\\nmvenkcuhazj\\nhzkvdejamcn\\njevzhnmcak\\nmhejzkcavn', 'yvpjqszo\\ndtg\\natg', 'ghczoyrkviaudbtjwne\\ndnbecrftkowghyuzvai\\nwbygucnavdktezhior', 'vyoq\\nvoy\\noyv\\nvoy', 'um\\nm\\nm', 'eijf\\njief\\njgief\\njfie\\nfijxde', 'xy\\nxyc\\nxy\\nyx\\nxy', 'ubcnvioqxlhm\\niqzbngoclhmxu\\niofwxbcmslndq', 'njqvmbatkxlfswizur\\ndqxkwlzbnmvau\\nvbuwmznakqlhx\\nunvzlxmwaqkbg', 'izwlbfqdh\\nwubacgyzrhfm', 'xvdzmaireyoqgfpub\\nrndxuczebfyipvtogma\\nvodgmwbxfzpeiyurja', 'hpdwqz\\nrqdhpzwn\\nwhpdzq\\nqphzwd\\ncwqphvzd', 'rndgovb\\ngdrvobn\\ngovndbr\\nvgbnord\\nnbvgord', 'ufxdk\\npehaqtz\\nrwpiea', 'v\\nv\\nv', 'zrclgthjybdxwsnmvqi\\ntnwyvidqrzxlgjscmbh\\nisjynzrmbgwlxtpchdvq\\nynqwlihbxrmztsjdcgv', 'q\\nq\\nq', 'c\\nc\\njb\\nu\\nc', 'vkejfcmgwixbnolutaqphrzsdy\\nfqdwjngcuxviloyzkshmpteabr', 'rfv\\nr\\nrz\\nqjmrg', 'wzhdyp\\nr\\ngbm\\naw', 'rsdywfzikhnlqc\\nkifcrndqlswzhy\\nhdfkiylsnqcrzw', 'lfhtzrxcj\\nfbtzlhrcj\\nlzdaftrjphco\\n']\n"
     ]
    }
   ],
   "source": [
    "with open('input_6.txt') as file:\n",
    "    lines = file.read()\n",
    "\n",
    "group_answers = lines.split('\\n\\n')\n",
    "print(group_answers)"
   ]
  },
  {
   "cell_type": "code",
   "execution_count": 8,
   "metadata": {},
   "outputs": [
    {
     "name": "stdout",
     "output_type": "stream",
     "text": [
      "Sum of positive answers [anyone]:  6590\n"
     ]
    }
   ],
   "source": [
    "count_positives_anyone = 0\n",
    "for group in group_answers:\n",
    "    group = group.replace('\\n', '')\n",
    "    count_positives_anyone += len(set(group))\n",
    "print('Sum of positive answers [anyone]: ', count_positives_anyone)"
   ]
  },
  {
   "cell_type": "code",
   "execution_count": 11,
   "metadata": {},
   "outputs": [
    {
     "data": {
      "text/plain": [
       "['abc', 'a\\nb\\nc', 'ab\\nac', 'a\\na\\na\\na', 'b']"
      ]
     },
     "execution_count": 11,
     "metadata": {},
     "output_type": "execute_result"
    }
   ],
   "source": [
    "str_test = \"\"\"abc\n",
    "\n",
    "a\n",
    "b\n",
    "c\n",
    "\n",
    "ab\n",
    "ac\n",
    "\n",
    "a\n",
    "a\n",
    "a\n",
    "a\n",
    "\n",
    "b\"\"\"\n",
    "\n",
    "test = str_test.split('\\n\\n')\n",
    "test"
   ]
  },
  {
   "cell_type": "code",
   "execution_count": 26,
   "metadata": {},
   "outputs": [
    {
     "name": "stdout",
     "output_type": "stream",
     "text": [
      "Sum of positive answers [everyone]:  3288\n"
     ]
    }
   ],
   "source": [
    "count_positives_everyone = 0\n",
    "for group in group_answers:\n",
    "    if group[-1] == '\\n':\n",
    "        group = group[:-1]\n",
    "    people = group.split('\\n')\n",
    "    resulting_set = set(people[0])\n",
    "    for person in people[1:]:\n",
    "        resulting_set = resulting_set.intersection(set(person))\n",
    "    count_positives_everyone += len(set(resulting_set))\n",
    "print('Sum of positive answers [everyone]: ', count_positives_everyone)"
   ]
  },
  {
   "cell_type": "code",
   "execution_count": null,
   "metadata": {},
   "outputs": [],
   "source": []
  }
 ],
 "metadata": {
  "kernelspec": {
   "display_name": "Python 3",
   "language": "python",
   "name": "python3"
  },
  "language_info": {
   "codemirror_mode": {
    "name": "ipython",
    "version": 3
   },
   "file_extension": ".py",
   "mimetype": "text/x-python",
   "name": "python",
   "nbconvert_exporter": "python",
   "pygments_lexer": "ipython3",
   "version": "3.8.2"
  }
 },
 "nbformat": 4,
 "nbformat_minor": 4
}
