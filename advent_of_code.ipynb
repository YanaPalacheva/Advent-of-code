{
 "cells": [
  {
   "cell_type": "markdown",
   "metadata": {},
   "source": [
    "### Day 1: sum check"
   ]
  },
  {
   "cell_type": "code",
   "execution_count": null,
   "metadata": {
    "scrolled": false
   },
   "outputs": [],
   "source": [
    "with open('input_1.txt') as file:\n",
    "    num_array = [int(line) for line in file]"
   ]
  },
  {
   "cell_type": "code",
   "execution_count": 8,
   "metadata": {},
   "outputs": [
    {
     "name": "stdout",
     "output_type": "stream",
     "text": [
      "1433 365 222\n",
      "116115990\n"
     ]
    }
   ],
   "source": [
    "def check_sum(array):\n",
    "    for num1 in array:\n",
    "        for num2 in array:\n",
    "            for num3 in array:\n",
    "                if num1 + num2 + num3 == 2020:\n",
    "                    return (num1, num2, num3)\n",
    "                \n",
    "num1, num2, num3 = check_sum(num_array)\n",
    "print(num1, num2, num3)\n",
    "print(num1*num2*num3)"
   ]
  },
  {
   "cell_type": "markdown",
   "metadata": {},
   "source": [
    "### Day 2: password check"
   ]
  },
  {
   "cell_type": "code",
   "execution_count": 5,
   "metadata": {},
   "outputs": [],
   "source": [
    "with open('input_2.txt') as file:\n",
    "    password_tuples = []\n",
    "    for line in file:\n",
    "        spl = line.split(': ')\n",
    "        password_tuples.append((spl[0], spl[1][:-1]))\n"
   ]
  },
  {
   "cell_type": "code",
   "execution_count": 11,
   "metadata": {},
   "outputs": [
    {
     "data": {
      "text/plain": [
       "493"
      ]
     },
     "execution_count": 11,
     "metadata": {},
     "output_type": "execute_result"
    }
   ],
   "source": [
    "valid_cnt = 0\n",
    "for t in password_tuples:\n",
    "    rule, pw = t\n",
    "    rule_spl = rule.split(\" \")\n",
    "    char = rule_spl[1]\n",
    "    lims = rule_spl[0].split(\"-\")\n",
    "    if pw.count(char) in range(int(lims[0]), int(lims[1])+1):\n",
    "        valid_cnt += 1\n",
    "valid_cnt"
   ]
  },
  {
   "cell_type": "code",
   "execution_count": 16,
   "metadata": {},
   "outputs": [
    {
     "data": {
      "text/plain": [
       "593"
      ]
     },
     "execution_count": 16,
     "metadata": {},
     "output_type": "execute_result"
    }
   ],
   "source": [
    "valid_cnt_new = 0\n",
    "for t in password_tuples:\n",
    "    rule, pw = t\n",
    "    rule_spl = rule.split(\" \")\n",
    "    char = rule_spl[1]\n",
    "    positions = rule_spl[0].split(\"-\")\n",
    "    if (pw[int(positions[0])-1] == char) is not (pw[int(positions[1])-1] == char):\n",
    "        valid_cnt_new += 1\n",
    "valid_cnt_new"
   ]
  },
  {
   "cell_type": "markdown",
   "metadata": {},
   "source": [
    "### Day 3: tree counting"
   ]
  },
  {
   "cell_type": "code",
   "execution_count": 26,
   "metadata": {},
   "outputs": [
    {
     "data": {
      "text/plain": [
       "6419669520"
      ]
     },
     "execution_count": 26,
     "metadata": {},
     "output_type": "execute_result"
    }
   ],
   "source": [
    "with open('input_3.txt') as file:\n",
    "    lines = file.read().splitlines()[1:]\n",
    "\n",
    "slopes = [(1,1), (3,1), (5,1), (7,1), (1,2)]\n",
    "len_line = len(lines[0])\n",
    "result = 1\n",
    "\n",
    "for h_slope, v_slope in slopes:\n",
    "    tree_cnt = 0\n",
    "    mult = 1\n",
    "    add = 0\n",
    "    ind = mult*h_slope + add\n",
    "    for line_ind, line in enumerate(lines):\n",
    "        if (line_ind+1)%v_slope == 0:\n",
    "            if len_line-1 > ind:\n",
    "                if line[ind] == '#':\n",
    "                    tree_cnt += 1\n",
    "                mult += 1\n",
    "\n",
    "            elif len_line-1 == ind:\n",
    "                if line[ind] == '#':\n",
    "                    tree_cnt += 1\n",
    "                mult = 1\n",
    "                add = -1\n",
    "\n",
    "            new_ind = mult*h_slope + add\n",
    "            if len_line-1 < new_ind:\n",
    "                mult = 0\n",
    "                add = h_slope - (len_line - ind)\n",
    "                new_ind = mult*h_slope + add\n",
    "            ind = new_ind\n",
    "            \n",
    "    result *= tree_cnt\n",
    "\n",
    "result"
   ]
  },
  {
   "cell_type": "markdown",
   "metadata": {},
   "source": [
    "### Day 4: passport validation"
   ]
  },
  {
   "cell_type": "code",
   "execution_count": 15,
   "metadata": {},
   "outputs": [],
   "source": [
    "with open('input_4.txt') as file:\n",
    "    lines = file.read()\n",
    "\n",
    "pass_data = lines.split('\\n\\n')"
   ]
  },
  {
   "cell_type": "code",
   "execution_count": 22,
   "metadata": {},
   "outputs": [
    {
     "data": {
      "text/plain": [
       "137"
      ]
     },
     "execution_count": 22,
     "metadata": {},
     "output_type": "execute_result"
    }
   ],
   "source": [
    "import re\n",
    "\n",
    "def valid_field(field, value):\n",
    "    if field == 'byr': \n",
    "        if (not re.search(r'^\\d{4}$', value)):\n",
    "            return False\n",
    "        elif not (int(value) in range(1920, 2003)):\n",
    "            return False\n",
    "    elif field == 'iyr': \n",
    "        if (not re.search(r'^\\d{4}$', value)):\n",
    "            return False\n",
    "        elif not (int(value) in range(2010, 2021)):\n",
    "            return False\n",
    "    elif field == 'eyr': \n",
    "        if (not re.search(r'^\\d{4}$', value)):\n",
    "            return False\n",
    "        elif not (int(value) in range(2020, 2031)):\n",
    "            return False\n",
    "    elif field == 'pid': \n",
    "        if not re.search(r'^\\d{9}$', value):\n",
    "            return False\n",
    "    elif field == 'ecl': \n",
    "        if value not in ['amb', 'blu', 'brn', 'gry', 'grn', 'hzl', 'oth']:\n",
    "            return False\n",
    "    elif field == 'hcl': \n",
    "        if not re.search(r'^#([0-9a-f]){6}$', value):\n",
    "            return False\n",
    "    elif field == 'hgt': \n",
    "        if not re.search(r'^\\d+(cm|in)$', value):\n",
    "            return False\n",
    "        elif value[-2:] == 'cm':\n",
    "            if not int(value[:-2]) in range(150, 194):\n",
    "                return False\n",
    "        elif value[-2:] == 'in':\n",
    "            if not int(value[:-2]) in range(59, 77):\n",
    "                return False\n",
    "    return True\n",
    "\n",
    "def valid_fields(raw_data):\n",
    "    data = raw_data.replace('/n', ' ').split()\n",
    "    for field_entry in data:\n",
    "        key_value = field_entry.split(':')\n",
    "        if not valid_field(key_value[0], key_value[1]):\n",
    "            return False\n",
    "    return True\n",
    "        \n",
    "def valid(raw_data):\n",
    "    fields = ['byr', 'iyr', 'eyr', 'hgt', 'hcl', 'ecl', 'pid', 'cid']\n",
    "    for field in fields:\n",
    "        if (field not in raw_data) and (field != 'cid'):\n",
    "            return False\n",
    "    if not valid_fields(raw_data):\n",
    "        return False\n",
    "    return True\n",
    "\n",
    "cnt_valid = 0\n",
    "for raw_data in pass_data:\n",
    "    if valid(raw_data):\n",
    "        cnt_valid += 1\n",
    "        \n",
    "cnt_valid"
   ]
  },
  {
   "cell_type": "markdown",
   "metadata": {},
   "source": [
    "### Day 5: find my seat!"
   ]
  },
  {
   "cell_type": "code",
   "execution_count": 4,
   "metadata": {},
   "outputs": [],
   "source": [
    "with open('input_5.txt') as file:\n",
    "    seat_codes = file.read().splitlines()\n",
    "test_codes = ['BFFFBBFRRR', 'FFFBBBFRRR', 'BBFFBBFRLL']\n",
    "total_rows = 128\n",
    "total_cols = 8\n",
    "\n",
    "# here could have been an elegant solution: the code is the binary number, rows=2^7, cols=2^3 and I could simply interpret\n",
    "# the code this way instead of dealing with range limits directly"
   ]
  },
  {
   "cell_type": "code",
   "execution_count": 45,
   "metadata": {},
   "outputs": [
    {
     "name": "stdout",
     "output_type": "stream",
     "text": [
      "Max id:  901\n"
     ]
    }
   ],
   "source": [
    "def find_pointer(seat_code, dirs, lower_pointer, upper_pointer):\n",
    "    for direction in seat_code:\n",
    "        if direction == dirs[0]:\n",
    "            if upper_pointer - lower_pointer == 1:\n",
    "                upper_pointer -= 1\n",
    "            else:\n",
    "                upper_pointer -= round((upper_pointer - lower_pointer)/2)\n",
    "        elif direction == dirs[1]:\n",
    "            if upper_pointer - lower_pointer == 1:\n",
    "                lower_pointer += 1\n",
    "            else:\n",
    "                lower_pointer += round((upper_pointer - lower_pointer)/2)\n",
    "        else:\n",
    "            print(f'Invalid code: {seat_code}')\n",
    "    if lower_pointer != upper_pointer:\n",
    "        print(lower_pointer, upper_pointer)\n",
    "        print('smth wrong')\n",
    "        return\n",
    "    return lower_pointer\n",
    "        \n",
    "        \n",
    "def seat_id(row, col):\n",
    "    return row*8+col\n",
    "\n",
    "seat_ids = []\n",
    "for seat_code in seat_codes:\n",
    "    row = find_pointer(seat_code[:7], ('F', 'B'), 0, 127)\n",
    "    col = find_pointer(seat_code[7:], ('L', 'R'), 0, 7)\n",
    "    seat_ids.append(seat_id(row, col))\n",
    "print(\"Max id: \", max(seat_ids))"
   ]
  },
  {
   "cell_type": "code",
   "execution_count": 47,
   "metadata": {},
   "outputs": [
    {
     "name": "stdout",
     "output_type": "stream",
     "text": [
      "My seat id:  661\n"
     ]
    }
   ],
   "source": [
    "my_seat_id = 0\n",
    "sorted_seat_ids_list = sorted(seat_ids)\n",
    "for ind, s_id in enumerate(sorted_seat_ids_list[:-1]):\n",
    "    if sorted_seat_ids_list[ind+1] - s_id == 2:\n",
    "        my_seat_id = s_id + 1\n",
    "\n",
    "print(\"My seat id: \", my_seat_id)"
   ]
  },
  {
   "cell_type": "markdown",
   "metadata": {},
   "source": [
    "### Day 6: always say yes"
   ]
  },
  {
   "cell_type": "code",
   "execution_count": 27,
   "metadata": {},
   "outputs": [],
   "source": [
    "with open('input_6.txt') as file:\n",
    "    lines = file.read()\n",
    "\n",
    "group_answers = lines.split('\\n\\n')"
   ]
  },
  {
   "cell_type": "code",
   "execution_count": 8,
   "metadata": {},
   "outputs": [
    {
     "name": "stdout",
     "output_type": "stream",
     "text": [
      "Sum of positive answers [anyone]:  6590\n"
     ]
    }
   ],
   "source": [
    "count_positives_anyone = 0\n",
    "for group in group_answers:\n",
    "    group = group.replace('\\n', '')\n",
    "    count_positives_anyone += len(set(group))\n",
    "print('Sum of positive answers [anyone]: ', count_positives_anyone)"
   ]
  },
  {
   "cell_type": "code",
   "execution_count": 26,
   "metadata": {},
   "outputs": [
    {
     "name": "stdout",
     "output_type": "stream",
     "text": [
      "Sum of positive answers [everyone]:  3288\n"
     ]
    }
   ],
   "source": [
    "count_positives_everyone = 0\n",
    "for group in group_answers:\n",
    "    if group[-1] == '\\n':\n",
    "        group = group[:-1]\n",
    "    people = group.split('\\n')\n",
    "    resulting_set = set(people[0])\n",
    "    for person in people[1:]:\n",
    "        resulting_set = resulting_set.intersection(set(person))\n",
    "    count_positives_everyone += len(set(resulting_set))\n",
    "print('Sum of positive answers [everyone]: ', count_positives_everyone)"
   ]
  },
  {
   "cell_type": "markdown",
   "metadata": {},
   "source": [
    "### Day 7: where's my bag?"
   ]
  },
  {
   "cell_type": "code",
   "execution_count": 28,
   "metadata": {},
   "outputs": [],
   "source": [
    "with open('input_7.txt') as file:\n",
    "    rules = file.read().splitlines()"
   ]
  },
  {
   "cell_type": "code",
   "execution_count": 49,
   "metadata": {},
   "outputs": [
    {
     "name": "stdout",
     "output_type": "stream",
     "text": [
      "N of potential containers: 259\n"
     ]
    }
   ],
   "source": [
    "my_bag = 'shiny gold'\n",
    "containers = []\n",
    "\n",
    "def indirect_container(spl_rule, containers):\n",
    "    for c in containers:\n",
    "        if c in spl_rule[1]:\n",
    "            cont = spl_rule[0]\n",
    "            return cont\n",
    "    return ''\n",
    " \n",
    "# direct containers\n",
    "for rule in rules:\n",
    "    spl_rule = rule.split(' bags contain ')\n",
    "    if my_bag in spl_rule[1]:\n",
    "        cont = spl_rule[0]\n",
    "        containers.append(cont)\n",
    "\n",
    "# indirect containers\n",
    "def find_indirect(rules, containers):\n",
    "    newly_added = []\n",
    "    for rule in rules:\n",
    "        spl_rule = rule.split(' bags contain ') \n",
    "        indirect_cont = indirect_container(spl_rule, containers)\n",
    "        if indirect_cont:\n",
    "            newly_added.append(indirect_cont)\n",
    "    return newly_added\n",
    "\n",
    "newly_added = find_indirect(rules, containers) \n",
    "while newly_added:\n",
    "    containers += newly_added\n",
    "    newly_added = find_indirect(rules, newly_added)\n",
    "              \n",
    "print('N of potential containers:', len(set(containers)))"
   ]
  },
  {
   "cell_type": "code",
   "execution_count": 69,
   "metadata": {},
   "outputs": [
    {
     "name": "stdout",
     "output_type": "stream",
     "text": [
      "45018 bags are inside my wee shiny gold bag...\n"
     ]
    }
   ],
   "source": [
    "import re\n",
    "\n",
    "def parse_insides(raw_insides, parent_mult):\n",
    "    bag_tuples = []\n",
    "    bag_types = re.findall(r'[0-9]+\\s[a-z]+\\s[a-z]+', raw_insides)\n",
    "    for bag_type in bag_types:\n",
    "        tokens = bag_type.split()\n",
    "        bag_tuple = (parent_mult*int(tokens[0]), ' '.join(tokens[1:]))\n",
    "        bag_tuples.append(bag_tuple)\n",
    "    return bag_tuples\n",
    "     \n",
    "def find_insides(insides):\n",
    "    new_insides = []\n",
    "    for inside in insides:\n",
    "        for rule in rules:\n",
    "            spl_rule = rule.split(' bags contain ')\n",
    "            if inside[1] in spl_rule[0]:\n",
    "                new_insides += parse_insides(spl_rule[1], inside[0])\n",
    "    return new_insides\n",
    "\n",
    "insides = [(1, my_bag)]\n",
    "cnt = 0\n",
    "while insides:\n",
    "    insides = find_insides(insides)\n",
    "    for inside in insides:\n",
    "        cnt += inside[0]\n",
    "\n",
    "print(cnt, 'bags are inside my wee shiny gold bag...')"
   ]
  },
  {
   "cell_type": "markdown",
   "metadata": {},
   "source": [
    "### Day 8: To infinity... and beyond"
   ]
  },
  {
   "cell_type": "code",
   "execution_count": 76,
   "metadata": {},
   "outputs": [],
   "source": [
    "with open('input_8.txt') as file:\n",
    "    lines = file.read().splitlines()\n",
    "    \n",
    "instructions = []\n",
    "for line in lines:\n",
    "    instruction = tuple(line.split()) # command, argument\n",
    "    instructions.append(instruction)"
   ]
  },
  {
   "cell_type": "code",
   "execution_count": 36,
   "metadata": {},
   "outputs": [],
   "source": [
    "# test = \"\"\"nop +0\n",
    "# acc +1\n",
    "# jmp +4\n",
    "# acc +3\n",
    "# jmp -3\n",
    "# acc -99\n",
    "# acc +1\n",
    "# jmp -4\n",
    "# acc +6\"\"\"\n",
    "# test = test.splitlines()\n",
    "# instructions = []\n",
    "# for line in test:\n",
    "#     instruction = tuple(line.split()) # command, argument\n",
    "#     instructions.append(instruction)"
   ]
  },
  {
   "cell_type": "code",
   "execution_count": 134,
   "metadata": {},
   "outputs": [
    {
     "name": "stdout",
     "output_type": "stream",
     "text": [
      "Accumulator value at the end of the loop: 1654\n"
     ]
    }
   ],
   "source": [
    "accumulator = 0\n",
    "\n",
    "def execute_instruction(instr, index):\n",
    "    global accumulator\n",
    "    if instr[0] == 'acc':\n",
    "        accumulator += int(instr[1])\n",
    "    elif instr[0] == 'jmp':\n",
    "        return index+int(instr[1])\n",
    "    return index+1\n",
    "\n",
    "def loop_once(instructions):\n",
    "    loop = False\n",
    "    ind = 0\n",
    "    visited = [False]*len(instructions)\n",
    "    while not loop:\n",
    "        instruction = instructions[ind]\n",
    "        if visited[ind]: # visited\n",
    "            loop = True\n",
    "        else:\n",
    "            visited[ind] = True\n",
    "            ind = execute_instruction(instruction, ind)\n",
    "            \n",
    "loop_once(instructions)\n",
    "print('Accumulator value at the end of the loop:', accumulator)"
   ]
  },
  {
   "cell_type": "code",
   "execution_count": 135,
   "metadata": {},
   "outputs": [
    {
     "name": "stdout",
     "output_type": "stream",
     "text": [
      "Acccumulator: 833\n"
     ]
    }
   ],
   "source": [
    "def is_loop(cur_instructions):\n",
    "    ind = 0\n",
    "    visited_instructions = [False]*len(cur_instructions)\n",
    "    while ind < len(cur_instructions):\n",
    "        instruction = cur_instructions[ind]\n",
    "        if visited_instructions[ind]: # visited\n",
    "            return True\n",
    "        else:\n",
    "            visited_instructions[ind] = True\n",
    "            ind = execute_instruction(instruction, ind)\n",
    "    return False\n",
    "\n",
    "for index, instr in enumerate(instructions):\n",
    "    accumulator = 0\n",
    "    changed_instructions = instructions.copy()\n",
    "    if instr[0] == 'nop':\n",
    "        changed_instructions[index] = ('jmp', instr[1])\n",
    "    elif instr[0] == 'jmp':\n",
    "        changed_instructions[index] = ('nop', instr[1])\n",
    "    \n",
    "    if instr[0] != 'acc' and (not is_loop(changed_instructions)):\n",
    "        print('Acccumulator:', accumulator)\n",
    "        break\n",
    "        \n",
    "# too straightforward considering Part 1: I could just follow the reversed path of the loop and try changing jmp and nop \n",
    "# instead of testing all of them"
   ]
  },
  {
   "cell_type": "markdown",
   "metadata": {},
   "source": [
    "### Day 6: let's decypher XMAS together!"
   ]
  },
  {
   "cell_type": "code",
   "execution_count": 136,
   "metadata": {},
   "outputs": [],
   "source": [
    "with open('input_9.txt') as file:\n",
    "    numbers = [int(line) for line in file]\n",
    "    \n",
    "preamble = 25"
   ]
  },
  {
   "cell_type": "code",
   "execution_count": 137,
   "metadata": {},
   "outputs": [],
   "source": [
    "test_nums = [35, 20, 15, 25, 47, 40, 62, 55, 65, 95, 102, 117, 150, 182, 127, 219, 299, 277, 309, 576]\n",
    "test_preamble = 5"
   ]
  },
  {
   "cell_type": "code",
   "execution_count": 164,
   "metadata": {},
   "outputs": [
    {
     "name": "stdout",
     "output_type": "stream",
     "text": [
      "test (should be 127): 127\n"
     ]
    }
   ],
   "source": [
    "import itertools\n",
    "\n",
    "def calculate_sums(num_arr, dim=2):\n",
    "    return [sum(seq) for seq in itertools.combinations(num_arr, dim)]\n",
    "\n",
    "def non_valid_number(num_array, preamble):\n",
    "    for ind, num in enumerate(num_array[preamble:]):\n",
    "        pre_sums = calculate_sums(num_array[ind:ind+preamble])\n",
    "        if num not in pre_sums:\n",
    "            return num, ind\n",
    "    print('all numbers are valid')\n",
    "    return None\n",
    "\n",
    "test_invalid_num, test_invalid_ind = non_valid_number(test_nums, test_preamble)\n",
    "print('test (should be 127):', test_invalid_num)"
   ]
  },
  {
   "cell_type": "code",
   "execution_count": 163,
   "metadata": {},
   "outputs": [
    {
     "name": "stdout",
     "output_type": "stream",
     "text": [
      "the first non-valid number: 507622668\n"
     ]
    }
   ],
   "source": [
    "invalid_num, invalid_ind = non_valid_number(numbers, preamble)\n",
    "print('the first non-valid number:', invalid_num)"
   ]
  },
  {
   "cell_type": "code",
   "execution_count": 165,
   "metadata": {},
   "outputs": [
    {
     "name": "stdout",
     "output_type": "stream",
     "text": [
      "test (shoud be 62): 62\n"
     ]
    }
   ],
   "source": [
    "def find_contiguous_set(goal, num_arr):\n",
    "    cont_sets = [num_arr[i:i+j] for i in range(0,len(num_arr)) for j in range(2,len(num_arr)-i+1)]\n",
    "    for c_set in cont_sets:\n",
    "        if sum(c_set) == goal:\n",
    "            return c_set\n",
    "    print('no such set')\n",
    "    return None\n",
    "\n",
    "def calculate_weakness(c_set):\n",
    "    return max(c_set) + min(c_set)\n",
    "\n",
    "print('test (shoud be 62):', calculate_weakness(find_contiguous_set(127, test_nums[:test_invalid_ind])))"
   ]
  },
  {
   "cell_type": "code",
   "execution_count": 166,
   "metadata": {},
   "outputs": [
    {
     "name": "stdout",
     "output_type": "stream",
     "text": [
      "Encryption weakness: 76688505\n"
     ]
    }
   ],
   "source": [
    "print('Encryption weakness:', calculate_weakness(find_contiguous_set(invalid_num, numbers[:invalid_ind])))"
   ]
  },
  {
   "cell_type": "markdown",
   "metadata": {},
   "source": [
    "### Day 10: adapter train"
   ]
  },
  {
   "cell_type": "code",
   "execution_count": 1,
   "metadata": {},
   "outputs": [],
   "source": [
    "with open('input_10.txt') as file:\n",
    "    adapters = [int(line) for line in file]"
   ]
  },
  {
   "cell_type": "code",
   "execution_count": 14,
   "metadata": {},
   "outputs": [],
   "source": [
    "test_str = \"\"\"16\n",
    "10\n",
    "15\n",
    "5\n",
    "1\n",
    "11\n",
    "7\n",
    "19\n",
    "6\n",
    "12\n",
    "4\"\"\"\n",
    "test = test_str.splitlines()\n",
    "test = [int(i) for i in test]\n",
    "\n",
    "other_test_str = \"\"\"28\n",
    "33\n",
    "18\n",
    "42\n",
    "31\n",
    "14\n",
    "46\n",
    "20\n",
    "48\n",
    "47\n",
    "24\n",
    "23\n",
    "49\n",
    "45\n",
    "19\n",
    "38\n",
    "39\n",
    "11\n",
    "1\n",
    "32\n",
    "25\n",
    "35\n",
    "8\n",
    "17\n",
    "7\n",
    "9\n",
    "4\n",
    "2\n",
    "34\n",
    "10\n",
    "3\"\"\"\n",
    "other_test = other_test_str.splitlines()\n",
    "other_test = [int(i) for i in other_test]"
   ]
  },
  {
   "cell_type": "code",
   "execution_count": 15,
   "metadata": {},
   "outputs": [
    {
     "name": "stdout",
     "output_type": "stream",
     "text": [
      "test (7, 5)? (7, 5)\n",
      "other test (22, 10)? (22, 10)\n"
     ]
    }
   ],
   "source": [
    "def find_one_three_jolt_adapters(adapters):\n",
    "    cur_joltage = 0\n",
    "    one_jolt_dif = 0\n",
    "    three_jolt_dif = 0\n",
    "    sorted_adapters = sorted(adapters)\n",
    "    for adapter in sorted_adapters:\n",
    "        if adapter - cur_joltage == 1:\n",
    "            one_jolt_dif += 1\n",
    "        elif adapter - cur_joltage == 3:\n",
    "            three_jolt_dif += 1\n",
    "        else:\n",
    "            print('chain is invalid')\n",
    "            return None\n",
    "        cur_joltage = adapter\n",
    "    return one_jolt_dif, three_jolt_dif + 1 # +1 for the difference with the built-in adapter\n",
    "    \n",
    "print('test (7, 5)?', find_one_three_jolt_adapters(test))\n",
    "print('other test (22, 10)?', find_one_three_jolt_adapters(other_test))"
   ]
  },
  {
   "cell_type": "code",
   "execution_count": 16,
   "metadata": {},
   "outputs": [
    {
     "name": "stdout",
     "output_type": "stream",
     "text": [
      "Multiplication of 3-jolt and 1-jolt difference: 2414\n"
     ]
    }
   ],
   "source": [
    "one_jolt_dif, three_jolt_dif = find_one_three_jolt_adapters(adapters)\n",
    "print('Multiplication of 3-jolt and 1-jolt difference:', one_jolt_dif*three_jolt_dif)"
   ]
  },
  {
   "cell_type": "code",
   "execution_count": 20,
   "metadata": {},
   "outputs": [
    {
     "name": "stdout",
     "output_type": "stream",
     "text": [
      "Num of possible solutions: 21156911906816\n"
     ]
    }
   ],
   "source": [
    "# Solution from https://github.com/mebeim/aoc/tree/master/2020#part-2-9, I got stuck and tried to put it in a tree.\n",
    "# It was a bad idea. But I learned about caching, yay!\n",
    "\n",
    "from functools import lru_cache\n",
    "\n",
    "def solution_wrapper(array, i):\n",
    "    @lru_cache()\n",
    "    def possible_solutions(i):\n",
    "        nonlocal array\n",
    "        # If this is the last number, we only have one possible solution\n",
    "        if i == len(array) - 1:\n",
    "            return 1\n",
    "\n",
    "        # Otherwise, sum the number of possible solutions for any valid next number\n",
    "        total = 0\n",
    "        for j in range(i + 1, min(i + 4, len(array))): # min() to avoid going past the end of the list\n",
    "            if array[j] - array[i] <= 3:\n",
    "                total += possible_solutions(j)\n",
    "\n",
    "        return total\n",
    "    return possible_solutions(i)\n",
    "\n",
    "# test = [0] + sorted(test) + [max(test) + 3]\n",
    "# print('test (8)?', solution_wrapper(test, 0))\n",
    "\n",
    "# calling solution_wrapper() multiple times just creates new copies of possible_solutions(), which don't share the same cache.\n",
    "# -> call once and clear scope if want to call it again\n",
    "adapters = [0] + sorted(adapters) + [max(adapters) + 3]\n",
    "print('Num of possible solutions:', solution_wrapper(adapters, 0))"
   ]
  },
  {
   "cell_type": "markdown",
   "metadata": {},
   "source": [
    "### Day 11: a ferry case"
   ]
  },
  {
   "cell_type": "code",
   "execution_count": 2,
   "metadata": {},
   "outputs": [],
   "source": [
    "with open('input_11.txt') as file:\n",
    "    rows = file.read().splitlines()"
   ]
  },
  {
   "cell_type": "code",
   "execution_count": 4,
   "metadata": {},
   "outputs": [],
   "source": [
    "test = \"\"\"L.LL.LL.LL\n",
    "LLLLLLL.LL\n",
    "L.L.L..L..\n",
    "LLLL.LL.LL\n",
    "L.LL.LL.LL\n",
    "L.LLLLL.LL\n",
    "..L.L.....\n",
    "LLLLLLLLLL\n",
    "L.LLLLLL.L\n",
    "L.LLLLL.LL\"\"\"\n",
    "test_rows = test.splitlines()"
   ]
  },
  {
   "cell_type": "code",
   "execution_count": 86,
   "metadata": {},
   "outputs": [
    {
     "name": "stdout",
     "output_type": "stream",
     "text": [
      "#.#L.L#.##\n",
      "#LLL#LL.L#\n",
      "L.#.L..#..\n",
      "#L##.##.L#\n",
      "#.#L.LL.LL\n",
      "#.#L#L#.##\n",
      "..L.L.....\n",
      "#L#L##L#L#\n",
      "#.LLLLLL.L\n",
      "#.#L#L#.##\n",
      "Num of occupied seats (test, 37?): 37\n"
     ]
    }
   ],
   "source": [
    "# one of the eight positions immediately up, down, left, right, or diagonal from the seat\n",
    "def get_num_occupied_adjacent(rows, row_ind, seat_ind):\n",
    "    occupied = '#'\n",
    "    occ_cnt = 0\n",
    "    directions = ((-1, 0), ( 1,  0), (0, 1), ( 0, -1), # up, down, right, left\n",
    "                  (-1, 1), (-1, -1), (1, 1), ( 1, -1)) # up-right, up-left, down-right, down-left\n",
    "\n",
    "    for dir_row, dir_seat in directions:\n",
    "        row, seat = row_ind + dir_row, seat_ind + dir_seat\n",
    "        if 0 <= row < len(rows) and 0 <= seat < len(rows[0]):\n",
    "            if rows[row][seat] == occupied:\n",
    "                occ_cnt += 1\n",
    "       \n",
    "    return occ_cnt \n",
    "\n",
    "def get_num_occupied_visible(rows, row_ind, seat_ind):\n",
    "    occupied = '#'\n",
    "    floor = '.'\n",
    "    occ_cnt = 0\n",
    "    directions = ((-1, 0), ( 1,  0), (0, 1), ( 0, -1), # up, down, right, left\n",
    "                  (-1, 1), (-1, -1), (1, 1), ( 1, -1)) # up-right, up-left, down-right, down-left\n",
    "\n",
    "    for dir_row, dir_seat in directions:\n",
    "        seen = False\n",
    "        limit = False\n",
    "        row, seat = row_ind, seat_ind\n",
    "        while not (seen or limit):\n",
    "            row, seat = row + dir_row, seat + dir_seat\n",
    "            if 0 <= row < len(rows) and 0 <= seat < len(rows[0]):\n",
    "                if rows[row][seat] != floor:\n",
    "                    seen = True\n",
    "                if rows[row][seat] == occupied:\n",
    "                    occ_cnt += 1\n",
    "            else:\n",
    "                limit = True\n",
    "    return occ_cnt \n",
    "\n",
    "\n",
    "def check_seat_state(seat_state, rows, row_ind, seat_ind, visibility):\n",
    "    floor = '.'\n",
    "    empty = 'L'\n",
    "    occupied = '#'\n",
    "    if visibility:\n",
    "        tolerance = 5\n",
    "        num_occupied = get_num_occupied_visible(rows, row_ind, seat_ind)\n",
    "    else:\n",
    "        tolerance = 4\n",
    "        num_occupied = get_num_occupied_adjacent(rows, row_ind, seat_ind)\n",
    "    if seat_state == empty:\n",
    "        if num_occupied == 0:\n",
    "            return occupied\n",
    "    elif seat_state == occupied:\n",
    "        if num_occupied >= tolerance:\n",
    "            return empty\n",
    "        \n",
    "    return seat_state\n",
    "\n",
    "def fill_ferry_layout(rows, visibility=False):\n",
    "    chaos = True\n",
    "    current_rows = rows.copy()\n",
    "    while chaos:\n",
    "        chaos = False\n",
    "        new_rows = []\n",
    "        for row_ind, row in enumerate(current_rows):\n",
    "            new_row = ''\n",
    "            for seat_ind, seat_state in enumerate(row):\n",
    "                new_seat_state = check_seat_state(seat_state, current_rows, row_ind, seat_ind, visibility)\n",
    "                if seat_state != new_seat_state:\n",
    "                    chaos = True\n",
    "                new_row += new_seat_state\n",
    "            new_rows.append(new_row)\n",
    "        current_rows = new_rows.copy()\n",
    "        \n",
    "    return current_rows\n",
    "            \n",
    "res = fill_ferry_layout(test_rows)\n",
    "for row in res:\n",
    "    print(row)\n",
    "    \n",
    "print('Num of occupied seats (test, 37?):', sum(row.count(\"#\") for row in res))"
   ]
  },
  {
   "cell_type": "code",
   "execution_count": 59,
   "metadata": {},
   "outputs": [
    {
     "name": "stdout",
     "output_type": "stream",
     "text": [
      "Num of occupied seats: 2321\n"
     ]
    }
   ],
   "source": [
    "res = fill_ferry_layout(rows)\n",
    "print('Num of occupied seats:', sum(row.count(\"#\") for row in res))"
   ]
  },
  {
   "cell_type": "code",
   "execution_count": 87,
   "metadata": {},
   "outputs": [
    {
     "name": "stdout",
     "output_type": "stream",
     "text": [
      "#.L#.L#.L#\n",
      "#LLLLLL.LL\n",
      "L.L.L..#..\n",
      "##L#.#L.L#\n",
      "L.L#.LL.L#\n",
      "#.LLLL#.LL\n",
      "..#.L.....\n",
      "LLL###LLL#\n",
      "#.LLLLL#.L\n",
      "#.L#LL#.L#\n",
      "Num of visible occupied seats (test, 26?): 26\n"
     ]
    }
   ],
   "source": [
    "res = fill_ferry_layout(test_rows, visibility=True)\n",
    "for row in res:\n",
    "    print(row)\n",
    "    \n",
    "print('Num of visible occupied seats (test, 26?):', sum(row.count(\"#\") for row in res))"
   ]
  },
  {
   "cell_type": "code",
   "execution_count": 84,
   "metadata": {},
   "outputs": [
    {
     "name": "stdout",
     "output_type": "stream",
     "text": [
      "Num of visible occupied seats: 2102\n"
     ]
    }
   ],
   "source": [
    "res = fill_ferry_layout(rows, visibility=True)\n",
    "print('Num of visible occupied seats:', sum(row.count(\"#\") for row in res))"
   ]
  },
  {
   "cell_type": "markdown",
   "metadata": {},
   "source": [
    "### Day 12: dodge the storm"
   ]
  },
  {
   "cell_type": "code",
   "execution_count": 8,
   "metadata": {},
   "outputs": [],
   "source": [
    "with open('input_12.txt') as file:\n",
    "    lines = file.read().splitlines()\n",
    "    actions = [(line[0], int(line[1:])) for line in lines]"
   ]
  },
  {
   "cell_type": "code",
   "execution_count": 7,
   "metadata": {},
   "outputs": [],
   "source": [
    "test=\"\"\"F10\n",
    "N3\n",
    "F7\n",
    "R90\n",
    "F11\"\"\"\n",
    "test_lines = test.splitlines()\n",
    "test_actions = [(line[0], int(line[1:])) for line in test_lines]"
   ]
  },
  {
   "cell_type": "code",
   "execution_count": 22,
   "metadata": {},
   "outputs": [],
   "source": [
    "def change_direction(action, cur_direction):\n",
    "    directions = ['N', 'E', 'S', 'W']\n",
    "    ind = directions.index(cur_direction)\n",
    "    if action[0] == 'R':\n",
    "        delta = action[1] // 90\n",
    "    else:\n",
    "        delta = (360 - action[1]) // 90\n",
    "    ind += delta - len(directions)\n",
    "    return directions[ind]\n",
    "\n",
    "def find_coordinates(actions):\n",
    "    coordinates = {'E': 0, 'W': 0, 'N': 0, 'S': 0}\n",
    "    cur_direction = 'E'\n",
    "    for action in actions:\n",
    "        if action[0] in coordinates.keys():\n",
    "            coordinates[action[0]] += action[1]\n",
    "        elif action[0] == 'F':\n",
    "            coordinates[cur_direction] += action[1]\n",
    "        else: # R or L\n",
    "            cur_direction = change_direction(action, cur_direction)\n",
    "    return coordinates\n",
    "\n",
    "def manhattan_dist(coordinates):\n",
    "    return abs(coordinates['E']-coordinates['W']) + abs(coordinates['N']-coordinates['S'])"
   ]
  },
  {
   "cell_type": "code",
   "execution_count": 23,
   "metadata": {},
   "outputs": [
    {
     "name": "stdout",
     "output_type": "stream",
     "text": [
      "Test dist (25?) 25\n"
     ]
    }
   ],
   "source": [
    "print('Test dist (25?)', manhattan_dist(find_coordinates(test_actions)))"
   ]
  },
  {
   "cell_type": "code",
   "execution_count": 24,
   "metadata": {},
   "outputs": [
    {
     "name": "stdout",
     "output_type": "stream",
     "text": [
      "Manhattan distance: 923\n"
     ]
    }
   ],
   "source": [
    "print('Manhattan distance:', manhattan_dist(find_coordinates(actions)))"
   ]
  },
  {
   "cell_type": "code",
   "execution_count": 63,
   "metadata": {},
   "outputs": [],
   "source": [
    "def rotate_waypoint(waypoint_coordinates, action):\n",
    "    new_coords = waypoint_coordinates.copy()\n",
    "    if action[0] == 'R':\n",
    "        delta = action[1] // 90\n",
    "    else:\n",
    "        delta = (360 - action[1]) // 90\n",
    "    if delta == 1:\n",
    "        new_coords['x'] = waypoint_coordinates['y']\n",
    "        new_coords['y'] = -waypoint_coordinates['x']\n",
    "    if delta == 2:\n",
    "        new_coords['x'] = -waypoint_coordinates['x']\n",
    "        new_coords['y'] = -waypoint_coordinates['y']\n",
    "    if delta == 3:\n",
    "        new_coords['x'] = -waypoint_coordinates['y']\n",
    "        new_coords['y'] = waypoint_coordinates['x']\n",
    "    return new_coords\n",
    "    \n",
    "def find_coordinates_waypoint(actions):\n",
    "    ship_coordinates = {'x': 0, 'y': 0}\n",
    "    waypoint_coordinates = {'x': 10, 'y': 1}\n",
    "    directions = {'E': ('x', 1), 'W': ('x', -1), 'N': ('y', 1), 'S': ('y', -1)}\n",
    "    for action in actions:\n",
    "        if action[0] in directions.keys():\n",
    "            wp_dir = directions[action[0]]\n",
    "            waypoint_coordinates[wp_dir[0]] += wp_dir[1]*action[1]\n",
    "        elif action[0] == 'F':\n",
    "            ship_coordinates['x'] += waypoint_coordinates['x']*action[1]\n",
    "            ship_coordinates['y'] += waypoint_coordinates['y']*action[1]\n",
    "        else: # R or L\n",
    "            waypoint_coordinates = rotate_waypoint(waypoint_coordinates, action)\n",
    "    return ship_coordinates\n",
    "\n",
    "def manhattan_distance(coordinates):\n",
    "    return abs(coordinates['x']) + abs(coordinates['y'])"
   ]
  },
  {
   "cell_type": "code",
   "execution_count": 64,
   "metadata": {},
   "outputs": [
    {
     "name": "stdout",
     "output_type": "stream",
     "text": [
      "Test dist (286?) 286\n"
     ]
    }
   ],
   "source": [
    "print('Test dist (286?)', manhattan_distance(find_coordinates_waypoint(test_actions)))"
   ]
  },
  {
   "cell_type": "code",
   "execution_count": 65,
   "metadata": {},
   "outputs": [
    {
     "name": "stdout",
     "output_type": "stream",
     "text": [
      "Manhattan distance (waypoint): 24769\n"
     ]
    }
   ],
   "source": [
    "print('Manhattan distance (waypoint):', manhattan_distance(find_coordinates_waypoint(actions))) "
   ]
  },
  {
   "cell_type": "markdown",
   "metadata": {},
   "source": [
    "#### Beautiful solution from an amazing [AOC walkthrough](https://github.com/mebeim/aoc/blob/master/2020/README.md#day-12---rain-risk)!"
   ]
  },
  {
   "cell_type": "code",
   "execution_count": 69,
   "metadata": {},
   "outputs": [
    {
     "data": {
      "text/plain": [
       "923"
      ]
     },
     "execution_count": 69,
     "metadata": {},
     "output_type": "execute_result"
    }
   ],
   "source": [
    "LEFT, RIGHT, FORWARD = 'LRF' # string is a list, we can extract values like this\n",
    "NORTH, SOUTH, EAST, WEST = 'NSEW'\n",
    "\n",
    "# Direction Map (dictionary of dictionaries): 90 degrees LEFT or RIGHT based on current direction for rotation\n",
    "DIRMAP = {\n",
    "    NORTH: {LEFT:  WEST, RIGHT:  EAST},\n",
    "    SOUTH: {LEFT:  EAST, RIGHT:  WEST},\n",
    "    EAST : {LEFT: NORTH, RIGHT: SOUTH},\n",
    "    WEST : {LEFT: SOUTH, RIGHT: NORTH}\n",
    "}\n",
    "\n",
    "# Map: direction -> lambda function defining where to move (changing x and y coordinates).\n",
    "MOVEMAP = {\n",
    "    NORTH: lambda x, y, n: (    x, y + n),\n",
    "    SOUTH: lambda x, y, n: (    x, y - n),\n",
    "    EAST : lambda x, y, n: (x + n,     y),\n",
    "    WEST : lambda x, y, n: (x - n,     y)\n",
    "}\n",
    "\n",
    "# PART 1\n",
    "\n",
    "direction = EAST # current (start) direction\n",
    "x, y = 0, 0      # current (start) position\n",
    "\n",
    "for action, value in actions:\n",
    "    if action in (LEFT, RIGHT): # rotate 90 degrees left or right value//90 times (value=degree)\n",
    "        for _ in range(value // 90):\n",
    "            direction = DIRMAP[direction][action]\n",
    "            # DIRMAP[direction] returns a map of rotations {rotation direction (action):new ship direction}\n",
    "    elif action == FORWARD: # move ship in current direction\n",
    "        x, y = MOVEMAP[direction](x, y, value) \n",
    "        # MOVEMAP[direction] gives a lambda function, which returns new x and y based on x, y and (forward) value\n",
    "    else: # move ship N/S/E/W\n",
    "        x, y = MOVEMAP[action](x, y, value)\n",
    "        \n",
    "manhattan_distance = abs(x) + abs(y)\n",
    "manhattan_distance"
   ]
  },
  {
   "cell_type": "code",
   "execution_count": 70,
   "metadata": {},
   "outputs": [
    {
     "data": {
      "text/plain": [
       "24769"
      ]
     },
     "execution_count": 70,
     "metadata": {},
     "output_type": "execute_result"
    }
   ],
   "source": [
    "# PART 2: waypoint\n",
    "\n",
    "# Map: (rotation direction, degree) -> lambda function defining how to rotate the waypoint\n",
    "# (changing x and y coordinates of the waypoint)\n",
    "ROTMAP = {\n",
    "    ( LEFT,  90): lambda x, y: (-y,  x), # same as RIGHT 270\n",
    "    ( LEFT, 180): lambda x, y: (-x, -y), # same as RIGHT 180\n",
    "    ( LEFT, 270): lambda x, y: ( y, -x), # same as RIGHT 90\n",
    "    (RIGHT,  90): lambda x, y: ( y, -x), # same as LEFT 270\n",
    "    (RIGHT, 180): lambda x, y: (-x, -y), # same as LEFT 180\n",
    "    (RIGHT, 270): lambda x, y: (-y,  x), # same as LEFT 90\n",
    "}\n",
    "\n",
    "x, y = 0, 0     # current (start) ship position\n",
    "wx, wy = 10, 1  # current (start) waypoint position relative to the ship\n",
    "\n",
    "for action, value in actions:\n",
    "    if action in (LEFT, RIGHT): # rotate waypoint\n",
    "        wx, wy = ROTMAP[action, value](wx, wy)\n",
    "        # ROTMAP[action, value] gives a lambda function returning new waypoint x and y coordinates based on the current ones\n",
    "    elif action == FORWARD: # move ship to waypoint\n",
    "        x += wx * value\n",
    "        y += wy * value\n",
    "    else: # move waypoint\n",
    "        wx, wy = MOVEMAP[action](wx, wy, value)\n",
    "        # MOVEMAP[direction] gives a lambda function, which returns new waypoint x and y\n",
    "        # based on the current ones and (direction) value\n",
    "        \n",
    "manhattan_distance = abs(x) + abs(y)\n",
    "manhattan_distance"
   ]
  },
  {
   "cell_type": "markdown",
   "metadata": {},
   "source": [
    "### Day 13: shuttle to the airport"
   ]
  },
  {
   "cell_type": "markdown",
   "metadata": {},
   "source": [
    "#### Part 1"
   ]
  },
  {
   "cell_type": "code",
   "execution_count": 85,
   "metadata": {},
   "outputs": [],
   "source": [
    "input_str = \"\"\"1000655\n",
    "17,x,x,x,x,x,x,x,x,x,x,37,x,x,x,x,x,571,x,x,x,x,x,x,x,x,x,x,x,x,x,x,x,x,x,13,x,x,x,x,23,x,x,x,x,x,29,x,401,x,x,x,x,x,x,x,x,x,41,x,x,x,x,x,x,x,x,19\"\"\"\n",
    "test_str = \"\"\"939\n",
    "7,13,x,x,59,x,31,19\"\"\"\n",
    "\n",
    "def parse_input_1(in_str):\n",
    "    eta, bus_ids = in_str.splitlines()\n",
    "    eta = int(eta)\n",
    "    bus_ids = [int(id) for id in bus_ids.split(',') if id != 'x' ]\n",
    "    return eta, bus_ids"
   ]
  },
  {
   "cell_type": "code",
   "execution_count": 82,
   "metadata": {},
   "outputs": [
    {
     "name": "stdout",
     "output_type": "stream",
     "text": [
      "Test bus id * waiting time (295?) 295\n"
     ]
    }
   ],
   "source": [
    "from functools import reduce\n",
    "\n",
    "def find_suitable_bus_time(eta, bus_ids):\n",
    "    waiting_list = []\n",
    "    for bus_id in bus_ids:\n",
    "        waiting_time = bus_id*(eta//bus_id + 1) - eta\n",
    "        waiting_list.append((bus_id, waiting_time))\n",
    "    suitable_bus_time = min(waiting_list, key = lambda tup: tup[1])\n",
    "    return min(waiting_list, key = lambda tup: tup[1])\n",
    "\n",
    "eta, bus_ids = parse_input_1(test_str)\n",
    "suitable_bus_time = find_suitable_bus_time(eta, bus_ids)\n",
    "print('Test bus id * waiting time (295?)', reduce(lambda x, y: x*y, suitable_bus_time))"
   ]
  },
  {
   "cell_type": "code",
   "execution_count": 83,
   "metadata": {},
   "outputs": [
    {
     "name": "stdout",
     "output_type": "stream",
     "text": [
      "Bus id * waiting time: 138\n"
     ]
    }
   ],
   "source": [
    "eta, bus_ids = parse_input_1(input_str)\n",
    "suitable_bus_time = find_suitable_bus_time(eta, bus_ids)\n",
    "print('Bus id * waiting time:', reduce(lambda x, y: x*y, suitable_bus_time))"
   ]
  },
  {
   "cell_type": "markdown",
   "metadata": {},
   "source": [
    "#### Part 2"
   ]
  },
  {
   "cell_type": "code",
   "execution_count": 96,
   "metadata": {},
   "outputs": [],
   "source": [
    "input_str = \"17,x,x,x,x,x,x,x,x,x,x,37,x,x,x,x,x,571,x,x,x,x,x,x,x,x,x,x,x,x,x,x,x,x,x,13,x,x,x,x,23,x,x,x,x,x,29,x,401,x,x,x,x,x,x,x,x,x,41,x,x,x,x,x,x,x,x,19\"\n",
    "test_str_1 = \"7,13,x,x,59,x,31,19\" # 1068781\n",
    "test_str_2 = \"17,x,13,19\" # 3417\n",
    "test_str_3 = \"67,7,59,61\" # 754018\n",
    "test_str_4 = \"67,x,7,59,61\" # 779210\n",
    "test_str_5 = \"67,7,x,59,61\" # 1261476\n",
    "test_str_6 = \"1789,37,47,1889\" # 1202161486\n",
    "def parse_input_2(in_str):\n",
    "    return [(int(bus_id), idx) for idx, bus_id in enumerate(in_str.split(',')) if bus_id != 'x']"
   ]
  },
  {
   "cell_type": "code",
   "execution_count": 168,
   "metadata": {},
   "outputs": [
    {
     "name": "stdout",
     "output_type": "stream",
     "text": [
      "[(17, 0), (13, 2), (19, 3)]\n",
      "3417\n"
     ]
    }
   ],
   "source": [
    "buses = parse_input_2(test_str_2)\n",
    "print(buses)\n",
    "max_loop_bus, delta = max(buses, key = lambda tup: tup[0])\n",
    "mult = 1\n",
    "found = False\n",
    "timestep = 0\n",
    "\n",
    "while not found:\n",
    "    timestep += max_loop_bus\n",
    "    found = True\n",
    "    for bus, ddelta in buses:\n",
    "        if bus != max_loop_bus:\n",
    "            if not ((timestep - delta + ddelta)%bus == 0):\n",
    "                found = False\n",
    "\n",
    "print(timestep-delta)"
   ]
  },
  {
   "cell_type": "code",
   "execution_count": 163,
   "metadata": {},
   "outputs": [],
   "source": [
    "# greatest common delimiter\n",
    "def gcd(a, b):\n",
    "    while b:\n",
    "        a, b = b, a % b\n",
    "    return a\n",
    "\n",
    "# least common multiple\n",
    "def lcm(n, m):\n",
    "    return (n/gcd(n,m))*m"
   ]
  },
  {
   "cell_type": "code",
   "execution_count": 178,
   "metadata": {},
   "outputs": [
    {
     "name": "stdout",
     "output_type": "stream",
     "text": [
      "226845233210288.0\n"
     ]
    }
   ],
   "source": [
    "# Traditional thanks to https://github.com/mebeim/aoc/tree/master/2020#part-2---simple-approach for the big fat hint\n",
    "import itertools\n",
    "\n",
    "buses = parse_input_2(input_str)\n",
    "cur_timestep = 0\n",
    "step = buses[0][0]\n",
    "for bus_loop, delta in buses[1:]:\n",
    "    for tstep in itertools.count(cur_timestep, step): # step from the current timestep until current bus is suitable\n",
    "        if (tstep + delta) % bus_loop == 0: # (delimiter of timestep+its delta) \n",
    "            cur_timestep = tstep\n",
    "            break\n",
    "    step = lcm(step, bus_loop) # increasing step: it's a least common multiple of the current step and the current bus loop time\n",
    "\n",
    "print(cur_timestep)"
   ]
  },
  {
   "cell_type": "markdown",
   "metadata": {},
   "source": [
    "### Day 14: Docking-Masking"
   ]
  },
  {
   "cell_type": "code",
   "execution_count": 274,
   "metadata": {},
   "outputs": [],
   "source": [
    "import numpy as np\n",
    "import re\n",
    "\n",
    "with open('input_14.txt') as file:\n",
    "    lines = file.read().splitlines()\n",
    "    \n",
    "def parse_input(lines):\n",
    "    input_values = []\n",
    "    mask_prefix = 'mask = '\n",
    "    ind = 0\n",
    "    while ind < len(lines):\n",
    "        line = lines[ind]\n",
    "        if line.startswith(mask_prefix):\n",
    "            mask = line[len(mask_prefix):]\n",
    "            ind += 1\n",
    "            while ind < len(lines) and lines[ind].startswith('mem'):\n",
    "                mem_ind, value = re.findall(r'\\d+', lines[ind])\n",
    "                input_values.append((mask, (int(mem_ind), int(value))))\n",
    "                ind += 1\n",
    "        else:\n",
    "            print(f'parsing error at line {ind} (should be mask)')\n",
    "            break\n",
    "    return input_values\n",
    "    "
   ]
  },
  {
   "cell_type": "code",
   "execution_count": 239,
   "metadata": {},
   "outputs": [],
   "source": [
    "test_str = \"\"\"mask = XXXXXXXXXXXXXXXXXXXXXXXXXXXXX1XXXX0X\n",
    "mem[8] = 11\n",
    "mem[7] = 101\n",
    "mem[8] = 0\"\"\"\n",
    "\n",
    "# input_values, memory = parse_input(test_str.splitlines())"
   ]
  },
  {
   "cell_type": "code",
   "execution_count": 278,
   "metadata": {},
   "outputs": [
    {
     "name": "stdout",
     "output_type": "stream",
     "text": [
      "6513443633260\n"
     ]
    }
   ],
   "source": [
    "def decimal_to_binary(n): \n",
    "    base = '000000000000000000000000000000000000'\n",
    "    bin_num = bin(n).replace(\"0b\",\"\")\n",
    "    res = base[:len(base)-len(bin_num)] + bin_num\n",
    "    return res\n",
    "\n",
    "def apply_mask(mask, decimal_num):\n",
    "    binary_num = decimal_to_binary(decimal_num)\n",
    "    res = ''\n",
    "    for i in range(0, len(mask)):\n",
    "        res += binary_num[i] if mask[i] == 'X' else mask[i]\n",
    "    return int(res, 2) # binary to decimal\n",
    "\n",
    "input_values = parse_input(lines)\n",
    "memory = {}\n",
    "\n",
    "for mask, mem in input_values:\n",
    "    mem_ind, mem_value = mem\n",
    "    new_mem_value = apply_mask(mask, mem_value)\n",
    "    memory[mem_ind] = new_mem_value\n",
    "    \n",
    "print(sum(memory.values())) "
   ]
  },
  {
   "cell_type": "code",
   "execution_count": 270,
   "metadata": {},
   "outputs": [],
   "source": [
    "test_str_2 = \"\"\"mask = 000000000000000000000000000000X1001X\n",
    "mem[42] = 100\n",
    "mask = 00000000000000000000000000000000X0XX\n",
    "mem[26] = 1\"\"\"\n",
    "# input_values, memory = parse_input(test_str_2.splitlines())"
   ]
  },
  {
   "cell_type": "code",
   "execution_count": 279,
   "metadata": {},
   "outputs": [
    {
     "name": "stdout",
     "output_type": "stream",
     "text": [
      "3442819875191\n"
     ]
    }
   ],
   "source": [
    "from itertools import product\n",
    "\n",
    "def apply_mask_v2(mask, decimal_num):\n",
    "    binary_num = decimal_to_binary(decimal_num)\n",
    "    msk = ''\n",
    "    x_inds = []\n",
    "    for i in range(0, len(mask)):\n",
    "        msk += binary_num[i] if mask[i] == '0' else mask[i] # 0s unchanged, 1s overwritten\n",
    "        if mask[i] == 'X':\n",
    "            x_inds.append(i)\n",
    "            \n",
    "    nums = []\n",
    "    msk = list(msk) # to be able to replace xs with 0 or 1 by index\n",
    "    fluct_combs = product(range(2), repeat=len(x_inds)) # fluctuation combinations of 0 and 1 of length of all Xs in the mask\n",
    "    for fluct in fluct_combs:\n",
    "        bin_num = msk\n",
    "        for x_ind, f_ind in zip(x_inds, range(len(fluct))):\n",
    "            bin_num[x_ind] = str(fluct[f_ind])\n",
    "        bin_num = ''.join(bin_num)\n",
    "        nums.append(int(bin_num, 2)) # binary to decimal  \n",
    "    return nums \n",
    "\n",
    "input_values = parse_input(lines)\n",
    "memory = {}\n",
    "\n",
    "for mask, mem in input_values:\n",
    "    mem_ind, mem_value = mem\n",
    "    new_mem_inds = apply_mask_v2(mask, mem_ind)\n",
    "    for ind in new_mem_inds:\n",
    "        memory[ind] = mem_value\n",
    "    \n",
    "print(sum(memory.values()))"
   ]
  },
  {
   "cell_type": "raw",
   "metadata": {},
   "source": []
  }
 ],
 "metadata": {
  "kernelspec": {
   "display_name": "Python 3",
   "language": "python",
   "name": "python3"
  },
  "language_info": {
   "codemirror_mode": {
    "name": "ipython",
    "version": 3
   },
   "file_extension": ".py",
   "mimetype": "text/x-python",
   "name": "python",
   "nbconvert_exporter": "python",
   "pygments_lexer": "ipython3",
   "version": "3.8.2"
  }
 },
 "nbformat": 4,
 "nbformat_minor": 4
}
