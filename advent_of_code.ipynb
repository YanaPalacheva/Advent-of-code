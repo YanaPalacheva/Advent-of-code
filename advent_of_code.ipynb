{
 "cells": [
  {
   "cell_type": "markdown",
   "metadata": {},
   "source": [
    "### Day 1: sum check"
   ]
  },
  {
   "cell_type": "code",
   "execution_count": null,
   "metadata": {
    "scrolled": false
   },
   "outputs": [],
   "source": [
    "with open('input_1.txt') as file:\n",
    "    num_array = [int(line) for line in file]"
   ]
  },
  {
   "cell_type": "code",
   "execution_count": 8,
   "metadata": {},
   "outputs": [
    {
     "name": "stdout",
     "output_type": "stream",
     "text": [
      "1433 365 222\n",
      "116115990\n"
     ]
    }
   ],
   "source": [
    "def check_sum(array):\n",
    "    for num1 in array:\n",
    "        for num2 in array:\n",
    "            for num3 in array:\n",
    "                if num1 + num2 + num3 == 2020:\n",
    "                    return (num1, num2, num3)\n",
    "                \n",
    "num1, num2, num3 = check_sum(num_array)\n",
    "print(num1, num2, num3)\n",
    "print(num1*num2*num3)"
   ]
  },
  {
   "cell_type": "markdown",
   "metadata": {},
   "source": [
    "### Day 2: password check"
   ]
  },
  {
   "cell_type": "code",
   "execution_count": 5,
   "metadata": {},
   "outputs": [],
   "source": [
    "with open('input_2.txt') as file:\n",
    "    password_tuples = []\n",
    "    for line in file:\n",
    "        spl = line.split(': ')\n",
    "        password_tuples.append((spl[0], spl[1][:-1]))\n"
   ]
  },
  {
   "cell_type": "code",
   "execution_count": 11,
   "metadata": {},
   "outputs": [
    {
     "data": {
      "text/plain": [
       "493"
      ]
     },
     "execution_count": 11,
     "metadata": {},
     "output_type": "execute_result"
    }
   ],
   "source": [
    "valid_cnt = 0\n",
    "for t in password_tuples:\n",
    "    rule, pw = t\n",
    "    rule_spl = rule.split(\" \")\n",
    "    char = rule_spl[1]\n",
    "    lims = rule_spl[0].split(\"-\")\n",
    "    if pw.count(char) in range(int(lims[0]), int(lims[1])+1):\n",
    "        valid_cnt += 1\n",
    "valid_cnt"
   ]
  },
  {
   "cell_type": "code",
   "execution_count": 16,
   "metadata": {},
   "outputs": [
    {
     "data": {
      "text/plain": [
       "593"
      ]
     },
     "execution_count": 16,
     "metadata": {},
     "output_type": "execute_result"
    }
   ],
   "source": [
    "valid_cnt_new = 0\n",
    "for t in password_tuples:\n",
    "    rule, pw = t\n",
    "    rule_spl = rule.split(\" \")\n",
    "    char = rule_spl[1]\n",
    "    positions = rule_spl[0].split(\"-\")\n",
    "    if (pw[int(positions[0])-1] == char) is not (pw[int(positions[1])-1] == char):\n",
    "        valid_cnt_new += 1\n",
    "valid_cnt_new"
   ]
  },
  {
   "cell_type": "markdown",
   "metadata": {},
   "source": [
    "### Day 3: tree counting"
   ]
  },
  {
   "cell_type": "code",
   "execution_count": 26,
   "metadata": {},
   "outputs": [
    {
     "data": {
      "text/plain": [
       "6419669520"
      ]
     },
     "execution_count": 26,
     "metadata": {},
     "output_type": "execute_result"
    }
   ],
   "source": [
    "with open('input_3.txt') as file:\n",
    "    lines = file.read().splitlines()[1:]\n",
    "\n",
    "slopes = [(1,1), (3,1), (5,1), (7,1), (1,2)]\n",
    "len_line = len(lines[0])\n",
    "result = 1\n",
    "\n",
    "for h_slope, v_slope in slopes:\n",
    "    tree_cnt = 0\n",
    "    mult = 1\n",
    "    add = 0\n",
    "    ind = mult*h_slope + add\n",
    "    for line_ind, line in enumerate(lines):\n",
    "        if (line_ind+1)%v_slope == 0:\n",
    "            if len_line-1 > ind:\n",
    "                if line[ind] == '#':\n",
    "                    tree_cnt += 1\n",
    "                mult += 1\n",
    "\n",
    "            elif len_line-1 == ind:\n",
    "                if line[ind] == '#':\n",
    "                    tree_cnt += 1\n",
    "                mult = 1\n",
    "                add = -1\n",
    "\n",
    "            new_ind = mult*h_slope + add\n",
    "            if len_line-1 < new_ind:\n",
    "                mult = 0\n",
    "                add = h_slope - (len_line - ind)\n",
    "                new_ind = mult*h_slope + add\n",
    "            ind = new_ind\n",
    "            \n",
    "    result *= tree_cnt\n",
    "\n",
    "result"
   ]
  },
  {
   "cell_type": "markdown",
   "metadata": {},
   "source": [
    "### Day 4: passport validation"
   ]
  },
  {
   "cell_type": "code",
   "execution_count": 15,
   "metadata": {},
   "outputs": [],
   "source": [
    "with open('input_4.txt') as file:\n",
    "    lines = file.read()\n",
    "\n",
    "pass_data = lines.split('\\n\\n')"
   ]
  },
  {
   "cell_type": "code",
   "execution_count": 22,
   "metadata": {},
   "outputs": [
    {
     "data": {
      "text/plain": [
       "137"
      ]
     },
     "execution_count": 22,
     "metadata": {},
     "output_type": "execute_result"
    }
   ],
   "source": [
    "import re\n",
    "\n",
    "def valid_field(field, value):\n",
    "    if field == 'byr': \n",
    "        if (not re.search(r'^\\d{4}$', value)):\n",
    "            return False\n",
    "        elif not (int(value) in range(1920, 2003)):\n",
    "            return False\n",
    "    elif field == 'iyr': \n",
    "        if (not re.search(r'^\\d{4}$', value)):\n",
    "            return False\n",
    "        elif not (int(value) in range(2010, 2021)):\n",
    "            return False\n",
    "    elif field == 'eyr': \n",
    "        if (not re.search(r'^\\d{4}$', value)):\n",
    "            return False\n",
    "        elif not (int(value) in range(2020, 2031)):\n",
    "            return False\n",
    "    elif field == 'pid': \n",
    "        if not re.search(r'^\\d{9}$', value):\n",
    "            return False\n",
    "    elif field == 'ecl': \n",
    "        if value not in ['amb', 'blu', 'brn', 'gry', 'grn', 'hzl', 'oth']:\n",
    "            return False\n",
    "    elif field == 'hcl': \n",
    "        if not re.search(r'^#([0-9a-f]){6}$', value):\n",
    "            return False\n",
    "    elif field == 'hgt': \n",
    "        if not re.search(r'^\\d+(cm|in)$', value):\n",
    "            return False\n",
    "        elif value[-2:] == 'cm':\n",
    "            if not int(value[:-2]) in range(150, 194):\n",
    "                return False\n",
    "        elif value[-2:] == 'in':\n",
    "            if not int(value[:-2]) in range(59, 77):\n",
    "                return False\n",
    "    return True\n",
    "\n",
    "def valid_fields(raw_data):\n",
    "    data = raw_data.replace('/n', ' ').split()\n",
    "    for field_entry in data:\n",
    "        key_value = field_entry.split(':')\n",
    "        if not valid_field(key_value[0], key_value[1]):\n",
    "            return False\n",
    "    return True\n",
    "        \n",
    "def valid(raw_data):\n",
    "    fields = ['byr', 'iyr', 'eyr', 'hgt', 'hcl', 'ecl', 'pid', 'cid']\n",
    "    for field in fields:\n",
    "        if (field not in raw_data) and (field != 'cid'):\n",
    "            return False\n",
    "    if not valid_fields(raw_data):\n",
    "        return False\n",
    "    return True\n",
    "\n",
    "cnt_valid = 0\n",
    "for raw_data in pass_data:\n",
    "    if valid(raw_data):\n",
    "        cnt_valid += 1\n",
    "        \n",
    "cnt_valid"
   ]
  },
  {
   "cell_type": "code",
   "execution_count": 21,
   "metadata": {},
   "outputs": [
    {
     "name": "stdout",
     "output_type": "stream",
     "text": [
      "58\n",
      "59\n"
     ]
    }
   ],
   "source": []
  },
  {
   "cell_type": "code",
   "execution_count": null,
   "metadata": {},
   "outputs": [],
   "source": []
  }
 ],
 "metadata": {
  "kernelspec": {
   "display_name": "Python 3",
   "language": "python",
   "name": "python3"
  },
  "language_info": {
   "codemirror_mode": {
    "name": "ipython",
    "version": 3
   },
   "file_extension": ".py",
   "mimetype": "text/x-python",
   "name": "python",
   "nbconvert_exporter": "python",
   "pygments_lexer": "ipython3",
   "version": "3.8.2"
  }
 },
 "nbformat": 4,
 "nbformat_minor": 4
}
