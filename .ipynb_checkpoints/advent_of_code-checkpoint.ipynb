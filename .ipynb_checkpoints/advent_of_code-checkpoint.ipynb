{
 "cells": [
  {
   "cell_type": "markdown",
   "metadata": {},
   "source": [
    "### Day 1: sum check"
   ]
  },
  {
   "cell_type": "code",
   "execution_count": null,
   "metadata": {
    "scrolled": false
   },
   "outputs": [],
   "source": [
    "with open('input.txt') as file:\n",
    "    num_array = [int(line) for line in file]"
   ]
  },
  {
   "cell_type": "code",
   "execution_count": 8,
   "metadata": {},
   "outputs": [
    {
     "name": "stdout",
     "output_type": "stream",
     "text": [
      "1433 365 222\n",
      "116115990\n"
     ]
    }
   ],
   "source": [
    "def check_sum(array):\n",
    "    for num1 in array:\n",
    "        for num2 in array:\n",
    "            for num3 in array:\n",
    "                if num1 + num2 + num3 == 2020:\n",
    "                    return (num1, num2, num3)\n",
    "                \n",
    "num1, num2, num3 = check_sum(num_array)\n",
    "print(num1, num2, num3)\n",
    "print(num1*num2*num3)"
   ]
  },
  {
   "cell_type": "markdown",
   "metadata": {},
   "source": [
    "### Day 2: password check"
   ]
  },
  {
   "cell_type": "code",
   "execution_count": 5,
   "metadata": {},
   "outputs": [],
   "source": [
    "with open('input_2.txt') as file:\n",
    "    password_tuples = []\n",
    "    for line in file:\n",
    "        spl = line.split(': ')\n",
    "        password_tuples.append((spl[0], spl[1][:-1]))\n"
   ]
  },
  {
   "cell_type": "code",
   "execution_count": 11,
   "metadata": {},
   "outputs": [
    {
     "data": {
      "text/plain": [
       "493"
      ]
     },
     "execution_count": 11,
     "metadata": {},
     "output_type": "execute_result"
    }
   ],
   "source": [
    "valid_cnt = 0\n",
    "for t in password_tuples:\n",
    "    rule, pw = t\n",
    "    rule_spl = rule.split(\" \")\n",
    "    char = rule_spl[1]\n",
    "    lims = rule_spl[0].split(\"-\")\n",
    "    if pw.count(char) in range(int(lims[0]), int(lims[1])+1):\n",
    "        valid_cnt += 1\n",
    "valid_cnt"
   ]
  },
  {
   "cell_type": "code",
   "execution_count": 16,
   "metadata": {},
   "outputs": [
    {
     "data": {
      "text/plain": [
       "593"
      ]
     },
     "execution_count": 16,
     "metadata": {},
     "output_type": "execute_result"
    }
   ],
   "source": [
    "valid_cnt_new = 0\n",
    "for t in password_tuples:\n",
    "    rule, pw = t\n",
    "    rule_spl = rule.split(\" \")\n",
    "    char = rule_spl[1]\n",
    "    positions = rule_spl[0].split(\"-\")\n",
    "    if (pw[int(positions[0])-1] == char) is not (pw[int(positions[1])-1] == char):\n",
    "        valid_cnt_new += 1\n",
    "valid_cnt_new"
   ]
  },
  {
   "cell_type": "code",
   "execution_count": null,
   "metadata": {},
   "outputs": [],
   "source": [
    "### Day 3: tree counting\n",
    "- encode input into 0-1 g"
   ]
  },
  {
   "cell_type": "code",
   "execution_count": null,
   "metadata": {},
   "outputs": [],
   "source": []
  }
 ],
 "metadata": {
  "kernelspec": {
   "display_name": "Python 3",
   "language": "python",
   "name": "python3"
  },
  "language_info": {
   "codemirror_mode": {
    "name": "ipython",
    "version": 3
   },
   "file_extension": ".py",
   "mimetype": "text/x-python",
   "name": "python",
   "nbconvert_exporter": "python",
   "pygments_lexer": "ipython3",
   "version": "3.8.2"
  }
 },
 "nbformat": 4,
 "nbformat_minor": 4
}
